{
 "cells": [
  {
   "cell_type": "code",
   "execution_count": 1,
   "id": "5360fbd6-ad57-459f-8f1d-5ba2d27f50a0",
   "metadata": {
    "tags": []
   },
   "outputs": [],
   "source": [
    "import os\n",
    "import sys\n",
    "import copy\n",
    "import random\n",
    "import json\n",
    "from tqdm import tqdm, trange\n",
    "import rasterio\n",
    "import tifffile"
   ]
  },
  {
   "cell_type": "code",
   "execution_count": 2,
   "id": "c6ccda9b-5e0f-439c-a197-044bb24abc08",
   "metadata": {},
   "outputs": [],
   "source": [
    "import numpy as np\n",
    "import cv2\n",
    "import albumentations as alb"
   ]
  },
  {
   "cell_type": "code",
   "execution_count": 3,
   "id": "8bbaeae9-6e3d-4f97-b005-e91194952b99",
   "metadata": {},
   "outputs": [],
   "source": [
    "from tqdm import tqdm\n",
    "import matplotlib.pyplot as plt"
   ]
  },
  {
   "cell_type": "code",
   "execution_count": 4,
   "id": "877a42f3-88a1-4417-a4df-3e262ecb9fef",
   "metadata": {},
   "outputs": [],
   "source": [
    "work_path = '/home/user3/work/data/by_z_regression/minsk_t/6'"
   ]
  },
  {
   "cell_type": "markdown",
   "id": "22e38785-a9b0-4d89-aa5f-90fa2a024c3f",
   "metadata": {},
   "source": [
    "## Load dataset"
   ]
  },
  {
   "cell_type": "code",
   "execution_count": 5,
   "id": "5adcef07-fb53-483b-93da-9fe9217faae3",
   "metadata": {},
   "outputs": [
    {
     "name": "stdout",
     "output_type": "stream",
     "text": [
      "Started 1 of 1\n"
     ]
    },
    {
     "name": "stderr",
     "output_type": "stream",
     "text": [
      " 20%|███████▌                              | 342/1718 [00:00<00:00, 3414.08it/s]"
     ]
    },
    {
     "name": "stdout",
     "output_type": "stream",
     "text": [
      "[Errno 2] No such file or directory: '/home/user3/work/data/by_z_regression/minsk_t/6/known_dataset/f_11716-12110-0-321-5.npy'\n",
      "[Errno 2] No such file or directory: '/home/user3/work/data/by_z_regression/minsk_t/6/known_dataset/f_11545-11921-0-355-8.npy'\n",
      "[Errno 2] No such file or directory: '/home/user3/work/data/by_z_regression/minsk_t/6/known_dataset/f_13769-14161-0-272-4.npy'\n",
      "[Errno 2] No such file or directory: '/home/user3/work/data/by_z_regression/minsk_t/6/known_dataset/f_13356-13693-0-168-4.npy'\n",
      "[Errno 2] No such file or directory: '/home/user3/work/data/by_z_regression/minsk_t/6/known_dataset/f_18519-18872-0-253-1.npy'\n",
      "[Errno 2] No such file or directory: '/home/user3/work/data/by_z_regression/minsk_t/6/known_dataset/f_13415-13824-0-211-9.npy'\n",
      "[Errno 2] No such file or directory: '/home/user3/work/data/by_z_regression/minsk_t/6/known_dataset/f_6093-6453-0-289-1.npy'\n",
      "[Errno 2] No such file or directory: '/home/user3/work/data/by_z_regression/minsk_t/6/known_dataset/f_12232-12713-0-297-5.npy'\n",
      "[Errno 2] No such file or directory: '/home/user3/work/data/by_z_regression/minsk_t/6/known_dataset/f_18543-18954-0-285-1.npy'\n",
      "[Errno 2] No such file or directory: '/home/user3/work/data/by_z_regression/minsk_t/6/known_dataset/f_11142-11490-0-195-5.npy'\n",
      "[Errno 2] No such file or directory: '/home/user3/work/data/by_z_regression/minsk_t/6/known_dataset/f_13705-14058-0-174-2.npy'\n",
      "[Errno 2] No such file or directory: '/home/user3/work/data/by_z_regression/minsk_t/6/known_dataset/f_12933-13322-0-307-8.npy'\n",
      "[Errno 2] No such file or directory: '/home/user3/work/data/by_z_regression/minsk_t/6/known_dataset/f_5920-6339-0-235-2.npy'\n",
      "[Errno 2] No such file or directory: '/home/user3/work/data/by_z_regression/minsk_t/6/known_dataset/f_11406-11754-0-204-5.npy'\n",
      "[Errno 2] No such file or directory: '/home/user3/work/data/by_z_regression/minsk_t/6/known_dataset/f_11541-12008-0-221-5.npy'\n",
      "[Errno 2] No such file or directory: '/home/user3/work/data/by_z_regression/minsk_t/6/known_dataset/f_9745-10164-15209-15485-5.npy'\n",
      "[Errno 2] No such file or directory: '/home/user3/work/data/by_z_regression/minsk_t/6/known_dataset/f_12427-12830-0-239-5.npy'\n"
     ]
    },
    {
     "name": "stderr",
     "output_type": "stream",
     "text": [
      " 40%|███████████████▏                      | 684/1718 [00:00<00:00, 3295.58it/s]"
     ]
    },
    {
     "name": "stdout",
     "output_type": "stream",
     "text": [
      "[Errno 2] No such file or directory: '/home/user3/work/data/by_z_regression/minsk_t/6/known_dataset/f_244-602-0-252-2.npy'\n",
      "[Errno 2] No such file or directory: '/home/user3/work/data/by_z_regression/minsk_t/6/known_dataset/f_11220-11688-0-253-5.npy'\n",
      "[Errno 2] No such file or directory: '/home/user3/work/data/by_z_regression/minsk_t/6/known_dataset/f_0-274-0-181-1.npy'\n",
      "[Errno 2] No such file or directory: '/home/user3/work/data/by_z_regression/minsk_t/6/known_dataset/f_8745-9204-15257-15485-9.npy'\n",
      "[Errno 2] No such file or directory: '/home/user3/work/data/by_z_regression/minsk_t/6/known_dataset/f_5232-5589-0-340-1.npy'\n",
      "[Errno 2] No such file or directory: '/home/user3/work/data/by_z_regression/minsk_t/6/known_dataset/f_13915-14248-0-191-1.npy'\n",
      "[Errno 2] No such file or directory: '/home/user3/work/data/by_z_regression/minsk_t/6/known_dataset/f_149-491-0-182-2.npy'\n"
     ]
    },
    {
     "name": "stderr",
     "output_type": "stream",
     "text": [
      " 61%|██████████████████████▍              | 1041/1718 [00:00<00:00, 3417.17it/s]"
     ]
    },
    {
     "name": "stdout",
     "output_type": "stream",
     "text": [
      "[Errno 2] No such file or directory: '/home/user3/work/data/by_z_regression/minsk_t/6/known_dataset/f_7080-7476-0-235-2.npy'\n",
      "[Errno 2] No such file or directory: '/home/user3/work/data/by_z_regression/minsk_t/6/known_dataset/f_6023-6348-0-163-2.npy'\n",
      "[Errno 2] No such file or directory: '/home/user3/work/data/by_z_regression/minsk_t/6/known_dataset/f_12807-13145-0-291-1.npy'\n",
      "[Errno 2] No such file or directory: '/home/user3/work/data/by_z_regression/minsk_t/6/known_dataset/f_14006-14403-0-190-4.npy'\n",
      "[Errno 2] No such file or directory: '/home/user3/work/data/by_z_regression/minsk_t/6/known_dataset/f_13882-14253-0-327-4.npy'\n",
      "[Errno 2] No such file or directory: '/home/user3/work/data/by_z_regression/minsk_t/6/known_dataset/f_9879-10348-15206-15485-5.npy'\n",
      "[Errno 2] No such file or directory: '/home/user3/work/data/by_z_regression/minsk_t/6/known_dataset/f_6379-6786-15207-15485-1.npy'\n",
      "[Errno 2] No such file or directory: '/home/user3/work/data/by_z_regression/minsk_t/6/known_dataset/f_5643-6013-0-187-9.npy'\n",
      "[Errno 2] No such file or directory: '/home/user3/work/data/by_z_regression/minsk_t/6/known_dataset/f_12593-13074-0-312-5.npy'\n",
      "[Errno 2] No such file or directory: '/home/user3/work/data/by_z_regression/minsk_t/6/known_dataset/f_0-208-0-239-2.npy'\n",
      "[Errno 2] No such file or directory: '/home/user3/work/data/by_z_regression/minsk_t/6/known_dataset/f_18364-18720-0-178-3.npy'\n",
      "[Errno 2] No such file or directory: '/home/user3/work/data/by_z_regression/minsk_t/6/known_dataset/f_12811-13206-0-229-8.npy'\n",
      "[Errno 2] No such file or directory: '/home/user3/work/data/by_z_regression/minsk_t/6/known_dataset/f_318-688-0-310-3.npy'\n",
      "[Errno 2] No such file or directory: '/home/user3/work/data/by_z_regression/minsk_t/6/known_dataset/f_6807-7162-0-187-5.npy'\n",
      "[Errno 2] No such file or directory: '/home/user3/work/data/by_z_regression/minsk_t/6/known_dataset/f_9720-10058-15316-15485-3.npy'\n",
      "[Errno 2] No such file or directory: '/home/user3/work/data/by_z_regression/minsk_t/6/known_dataset/f_12114-12497-0-197-4.npy'\n",
      "[Errno 2] No such file or directory: '/home/user3/work/data/by_z_regression/minsk_t/6/known_dataset/f_13548-13961-0-247-2.npy'\n",
      "[Errno 2] No such file or directory: '/home/user3/work/data/by_z_regression/minsk_t/6/known_dataset/f_18580-18928-0-242-1.npy'\n",
      "[Errno 2] No such file or directory: '/home/user3/work/data/by_z_regression/minsk_t/6/known_dataset/f_10962-11346-0-245-2.npy'\n",
      "[Errno 2] No such file or directory: '/home/user3/work/data/by_z_regression/minsk_t/6/known_dataset/f_9669-10008-15315-15485-3.npy'\n",
      "[Errno 2] No such file or directory: '/home/user3/work/data/by_z_regression/minsk_t/6/known_dataset/f_11840-12390-0-342-5.npy'\n",
      "[Errno 2] No such file or directory: '/home/user3/work/data/by_z_regression/minsk_t/6/known_dataset/f_14298-14706-0-308-4.npy'\n",
      "[Errno 2] No such file or directory: '/home/user3/work/data/by_z_regression/minsk_t/6/known_dataset/f_4838-5280-0-296-2.npy'\n",
      "[Errno 2] No such file or directory: '/home/user3/work/data/by_z_regression/minsk_t/6/known_dataset/f_0-238-0-217-1.npy'\n",
      "[Errno 2] No such file or directory: '/home/user3/work/data/by_z_regression/minsk_t/6/known_dataset/f_6800-7166-0-475-5.npy'\n",
      "[Errno 2] No such file or directory: '/home/user3/work/data/by_z_regression/minsk_t/6/known_dataset/f_12004-12357-0-179-5.npy'\n",
      "[Errno 2] No such file or directory: '/home/user3/work/data/by_z_regression/minsk_t/6/known_dataset/f_106-447-0-173-1.npy'\n"
     ]
    },
    {
     "name": "stderr",
     "output_type": "stream",
     "text": [
      " 82%|██████████████████████████████▏      | 1403/1718 [00:00<00:00, 3495.35it/s]"
     ]
    },
    {
     "name": "stdout",
     "output_type": "stream",
     "text": [
      "[Errno 2] No such file or directory: '/home/user3/work/data/by_z_regression/minsk_t/6/known_dataset/f_11382-11861-0-326-5.npy'\n",
      "[Errno 2] No such file or directory: '/home/user3/work/data/by_z_regression/minsk_t/6/known_dataset/f_14102-14539-0-249-4.npy'\n",
      "[Errno 2] No such file or directory: '/home/user3/work/data/by_z_regression/minsk_t/6/known_dataset/f_68-398-0-165-2.npy'\n",
      "[Errno 2] No such file or directory: '/home/user3/work/data/by_z_regression/minsk_t/6/known_dataset/f_8185-8554-15299-15485-12.npy'\n",
      "[Errno 2] No such file or directory: '/home/user3/work/data/by_z_regression/minsk_t/6/known_dataset/f_13974-14429-0-372-4.npy'\n",
      "[Errno 2] No such file or directory: '/home/user3/work/data/by_z_regression/minsk_t/6/known_dataset/f_11203-11550-0-332-5.npy'\n"
     ]
    },
    {
     "name": "stderr",
     "output_type": "stream",
     "text": [
      "100%|█████████████████████████████████████| 1718/1718 [00:00<00:00, 3493.51it/s]"
     ]
    },
    {
     "name": "stdout",
     "output_type": "stream",
     "text": [
      "[Errno 2] No such file or directory: '/home/user3/work/data/by_z_regression/minsk_t/6/known_dataset/f_0-194-0-278-2.npy'\n",
      "[Errno 2] No such file or directory: '/home/user3/work/data/by_z_regression/minsk_t/6/known_dataset/f_5168-5541-0-319-12.npy'\n",
      "[Errno 2] No such file or directory: '/home/user3/work/data/by_z_regression/minsk_t/6/known_dataset/f_5062-5388-0-245-1.npy'\n",
      "[Errno 2] No such file or directory: '/home/user3/work/data/by_z_regression/minsk_t/6/known_dataset/f_5884-6232-0-177-2.npy'\n",
      "[Errno 2] No such file or directory: '/home/user3/work/data/by_z_regression/minsk_t/6/known_dataset/f_8458-8873-15260-15485-10.npy'\n",
      "[Errno 2] No such file or directory: '/home/user3/work/data/by_z_regression/minsk_t/6/known_dataset/f_13662-14028-0-268-2.npy'\n",
      "[Errno 2] No such file or directory: '/home/user3/work/data/by_z_regression/minsk_t/6/known_dataset/f_6506-6909-15290-15485-2.npy'\n",
      "[Errno 2] No such file or directory: '/home/user3/work/data/by_z_regression/minsk_t/6/known_dataset/f_12928-13332-8764-9325-10.npy'\n",
      "Loaded 1653\n"
     ]
    },
    {
     "name": "stderr",
     "output_type": "stream",
     "text": [
      "\n"
     ]
    }
   ],
   "source": [
    "image_prefix = 'i_'\n",
    "mask_prefix = 'm_'\n",
    "fm_prefix = 'f_'\n",
    "\n",
    "known_folder = os.path.join(work_path, 'known_dataset')\n",
    "folder_list = [known_folder, ]\n",
    "known_dataset = []\n",
    "for k, folder in enumerate(folder_list, start=1):\n",
    "    print('Started', k, 'of', len(folder_list))\n",
    "    dataset_name = folder.split('_')[-1]\n",
    "    dataset_items = [fn[len(mask_prefix): ] for fn in os.listdir(folder) if os.path.isfile(os.path.join(folder, fn)) and fn.startswith(mask_prefix)]\n",
    "    for n in trange(len(dataset_items)):\n",
    "        dataset_item = dataset_items[n]\n",
    "        ip = os.path.join(folder, image_prefix + dataset_item)\n",
    "        mp = os.path.join(folder, mask_prefix + dataset_item)\n",
    "        \n",
    "        fp = os.path.join(folder, fm_prefix + dataset_item[:-3] + 'npy')\n",
    "        try:\n",
    "            level = dataset_item.split('.')[-2].split('-')[-1]\n",
    "            with open(fp, 'rb') as f:\n",
    "                 features_loaded = np.load(f)\n",
    "        except Exception as e:\n",
    "            print(str(e))\n",
    "            continue\n",
    "        known_dataset.append((ip, mp, fp, level, features_loaded))\n",
    "print('Loaded', len(known_dataset))"
   ]
  },
  {
   "cell_type": "code",
   "execution_count": 6,
   "id": "ca5d8e1a-f20d-4e40-a719-a33b0a5f6bc4",
   "metadata": {},
   "outputs": [
    {
     "name": "stdout",
     "output_type": "stream",
     "text": [
      "Started 1 of 1\n"
     ]
    },
    {
     "name": "stderr",
     "output_type": "stream",
     "text": [
      "  0%|                                                  | 0/5514 [00:00<?, ?it/s]"
     ]
    },
    {
     "name": "stdout",
     "output_type": "stream",
     "text": [
      "[Errno 2] No such file or directory: '/home/user3/work/data/by_z_regression/minsk_t/6/unknown_dataset/f_15154-15487-10479-10810-10.npy'\n",
      "[Errno 2] No such file or directory: '/home/user3/work/data/by_z_regression/minsk_t/6/unknown_dataset/f_6709-7054-0-243-255.npy'\n",
      "[Errno 2] No such file or directory: '/home/user3/work/data/by_z_regression/minsk_t/6/unknown_dataset/f_12777-13106-0-165-255.npy'\n",
      "[Errno 2] No such file or directory: '/home/user3/work/data/by_z_regression/minsk_t/6/unknown_dataset/f_0-171-7424-7759-255.npy'\n",
      "[Errno 2] No such file or directory: '/home/user3/work/data/by_z_regression/minsk_t/6/unknown_dataset/f_11019-11368-0-326-255.npy'\n",
      "[Errno 2] No such file or directory: '/home/user3/work/data/by_z_regression/minsk_t/6/unknown_dataset/f_177-547-0-329-255.npy'\n",
      "[Errno 2] No such file or directory: '/home/user3/work/data/by_z_regression/minsk_t/6/unknown_dataset/f_7594-8006-0-392-255.npy'\n"
     ]
    },
    {
     "name": "stderr",
     "output_type": "stream",
     "text": [
      "  6%|██▎                                   | 338/5514 [00:00<00:01, 3372.16it/s]"
     ]
    },
    {
     "name": "stdout",
     "output_type": "stream",
     "text": [
      "[Errno 2] No such file or directory: '/home/user3/work/data/by_z_regression/minsk_t/6/unknown_dataset/f_6995-7326-0-166-255.npy'\n",
      "[Errno 2] No such file or directory: '/home/user3/work/data/by_z_regression/minsk_t/6/unknown_dataset/f_0-229-6888-7255-255.npy'\n",
      "[Errno 2] No such file or directory: '/home/user3/work/data/by_z_regression/minsk_t/6/unknown_dataset/f_10896-11260-0-217-255.npy'\n",
      "[Errno 2] No such file or directory: '/home/user3/work/data/by_z_regression/minsk_t/6/unknown_dataset/f_12507-12846-15307-15485-255.npy'\n",
      "[Errno 2] No such file or directory: '/home/user3/work/data/by_z_regression/minsk_t/6/unknown_dataset/f_10332-10679-0-230-255.npy'\n",
      "[Errno 2] No such file or directory: '/home/user3/work/data/by_z_regression/minsk_t/6/unknown_dataset/f_8623-9020-0-227-255.npy'\n",
      "[Errno 2] No such file or directory: '/home/user3/work/data/by_z_regression/minsk_t/6/unknown_dataset/f_0-162-6969-7292-255.npy'\n",
      "[Errno 2] No such file or directory: '/home/user3/work/data/by_z_regression/minsk_t/6/unknown_dataset/f_0-258-8309-8659-255.npy'\n",
      "[Errno 2] No such file or directory: '/home/user3/work/data/by_z_regression/minsk_t/6/unknown_dataset/f_0-238-8342-8698-255.npy'\n"
     ]
    },
    {
     "name": "stderr",
     "output_type": "stream",
     "text": [
      " 12%|████▋                                 | 689/5514 [00:00<00:01, 3444.62it/s]"
     ]
    },
    {
     "name": "stdout",
     "output_type": "stream",
     "text": [
      "[Errno 2] No such file or directory: '/home/user3/work/data/by_z_regression/minsk_t/6/unknown_dataset/f_10457-10788-0-293-255.npy'\n",
      "[Errno 2] No such file or directory: '/home/user3/work/data/by_z_regression/minsk_t/6/unknown_dataset/f_12638-12975-15305-15485-255.npy'\n",
      "[Errno 2] No such file or directory: '/home/user3/work/data/by_z_regression/minsk_t/6/unknown_dataset/f_0-311-6527-6951-255.npy'\n",
      "[Errno 2] No such file or directory: '/home/user3/work/data/by_z_regression/minsk_t/6/unknown_dataset/f_12873-13291-0-262-255.npy'\n",
      "[Errno 2] No such file or directory: '/home/user3/work/data/by_z_regression/minsk_t/6/unknown_dataset/f_0-211-8222-8581-255.npy'\n",
      "[Errno 2] No such file or directory: '/home/user3/work/data/by_z_regression/minsk_t/6/unknown_dataset/f_0-201-7602-7967-255.npy'\n",
      "[Errno 2] No such file or directory: '/home/user3/work/data/by_z_regression/minsk_t/6/unknown_dataset/f_10529-10861-0-245-255.npy'\n"
     ]
    },
    {
     "name": "stderr",
     "output_type": "stream",
     "text": [
      " 19%|███████▏                             | 1071/5514 [00:00<00:01, 3613.39it/s]"
     ]
    },
    {
     "name": "stdout",
     "output_type": "stream",
     "text": [
      "[Errno 2] No such file or directory: '/home/user3/work/data/by_z_regression/minsk_t/6/unknown_dataset/f_13194-13516-1979-2301-255.npy'\n",
      "[Errno 2] No such file or directory: '/home/user3/work/data/by_z_regression/minsk_t/6/unknown_dataset/f_0-282-6933-7286-255.npy'\n",
      "[Errno 2] No such file or directory: '/home/user3/work/data/by_z_regression/minsk_t/6/unknown_dataset/f_10557-10901-0-208-255.npy'\n",
      "[Errno 2] No such file or directory: '/home/user3/work/data/by_z_regression/minsk_t/6/unknown_dataset/f_0-272-7324-7662-255.npy'\n",
      "[Errno 2] No such file or directory: '/home/user3/work/data/by_z_regression/minsk_t/6/unknown_dataset/f_10576-10919-0-265-255.npy'\n"
     ]
    },
    {
     "name": "stderr",
     "output_type": "stream",
     "text": [
      " 26%|█████████▋                           | 1445/5514 [00:00<00:01, 3661.34it/s]"
     ]
    },
    {
     "name": "stdout",
     "output_type": "stream",
     "text": [
      "[Errno 2] No such file or directory: '/home/user3/work/data/by_z_regression/minsk_t/6/unknown_dataset/f_10419-10760-0-199-255.npy'\n",
      "[Errno 2] No such file or directory: '/home/user3/work/data/by_z_regression/minsk_t/6/unknown_dataset/f_0-200-7261-7646-255.npy'\n",
      "[Errno 2] No such file or directory: '/home/user3/work/data/by_z_regression/minsk_t/6/unknown_dataset/f_12625-12962-15249-15485-255.npy'\n",
      "[Errno 2] No such file or directory: '/home/user3/work/data/by_z_regression/minsk_t/6/unknown_dataset/f_18588-18923-0-167-255.npy'\n",
      "[Errno 2] No such file or directory: '/home/user3/work/data/by_z_regression/minsk_t/6/unknown_dataset/f_10211-10664-15196-15485-255.npy'\n",
      "[Errno 2] No such file or directory: '/home/user3/work/data/by_z_regression/minsk_t/6/unknown_dataset/f_10270-10611-0-229-255.npy'\n",
      "[Errno 2] No such file or directory: '/home/user3/work/data/by_z_regression/minsk_t/6/unknown_dataset/f_10413-10758-0-179-255.npy'\n",
      "[Errno 2] No such file or directory: '/home/user3/work/data/by_z_regression/minsk_t/6/unknown_dataset/f_0-200-8421-8791-255.npy'\n",
      "[Errno 2] No such file or directory: '/home/user3/work/data/by_z_regression/minsk_t/6/unknown_dataset/f_0-275-7069-7422-255.npy'\n",
      "[Errno 2] No such file or directory: '/home/user3/work/data/by_z_regression/minsk_t/6/unknown_dataset/f_0-321-506-865-255.npy'\n",
      "[Errno 2] No such file or directory: '/home/user3/work/data/by_z_regression/minsk_t/6/unknown_dataset/f_0-318-6819-7188-255.npy'\n",
      "[Errno 2] No such file or directory: '/home/user3/work/data/by_z_regression/minsk_t/6/unknown_dataset/f_10627-11021-0-275-255.npy'\n",
      "[Errno 2] No such file or directory: '/home/user3/work/data/by_z_regression/minsk_t/6/unknown_dataset/f_0-260-7698-8062-255.npy'\n",
      "[Errno 2] No such file or directory: '/home/user3/work/data/by_z_regression/minsk_t/6/unknown_dataset/f_0-209-7111-7458-255.npy'\n"
     ]
    },
    {
     "name": "stderr",
     "output_type": "stream",
     "text": [
      " 33%|████████████▏                        | 1812/5514 [00:00<00:01, 3608.33it/s]"
     ]
    },
    {
     "name": "stdout",
     "output_type": "stream",
     "text": [
      "[Errno 2] No such file or directory: '/home/user3/work/data/by_z_regression/minsk_t/6/unknown_dataset/f_0-200-9003-9352-255.npy'\n",
      "[Errno 2] No such file or directory: '/home/user3/work/data/by_z_regression/minsk_t/6/unknown_dataset/f_10071-10427-0-193-255.npy'\n",
      "[Errno 2] No such file or directory: '/home/user3/work/data/by_z_regression/minsk_t/6/unknown_dataset/f_0-303-7233-7584-255.npy'\n",
      "[Errno 2] No such file or directory: '/home/user3/work/data/by_z_regression/minsk_t/6/unknown_dataset/f_10212-10559-0-290-255.npy'\n",
      "[Errno 2] No such file or directory: '/home/user3/work/data/by_z_regression/minsk_t/6/unknown_dataset/f_34-385-0-202-255.npy'\n",
      "[Errno 2] No such file or directory: '/home/user3/work/data/by_z_regression/minsk_t/6/unknown_dataset/f_12824-13172-0-174-255.npy'\n"
     ]
    },
    {
     "name": "stderr",
     "output_type": "stream",
     "text": [
      " 40%|██████████████▋                      | 2184/5514 [00:00<00:00, 3644.02it/s]"
     ]
    },
    {
     "name": "stdout",
     "output_type": "stream",
     "text": [
      "[Errno 2] No such file or directory: '/home/user3/work/data/by_z_regression/minsk_t/6/unknown_dataset/f_10366-10706-0-224-255.npy'\n",
      "[Errno 2] No such file or directory: '/home/user3/work/data/by_z_regression/minsk_t/6/unknown_dataset/f_17874-18296-0-215-255.npy'\n",
      "[Errno 2] No such file or directory: '/home/user3/work/data/by_z_regression/minsk_t/6/unknown_dataset/f_0-250-7932-8293-255.npy'\n",
      "[Errno 2] No such file or directory: '/home/user3/work/data/by_z_regression/minsk_t/6/unknown_dataset/f_10826-11184-0-302-255.npy'\n",
      "[Errno 2] No such file or directory: '/home/user3/work/data/by_z_regression/minsk_t/6/unknown_dataset/f_5088-5425-0-270-255.npy'\n",
      "[Errno 2] No such file or directory: '/home/user3/work/data/by_z_regression/minsk_t/6/unknown_dataset/f_5747-6098-0-181-255.npy'\n",
      "[Errno 2] No such file or directory: '/home/user3/work/data/by_z_regression/minsk_t/6/unknown_dataset/f_220-590-0-294-255.npy'\n",
      "[Errno 2] No such file or directory: '/home/user3/work/data/by_z_regression/minsk_t/6/unknown_dataset/f_18470-18838-0-203-255.npy'\n",
      "[Errno 2] No such file or directory: '/home/user3/work/data/by_z_regression/minsk_t/6/unknown_dataset/f_0-164-8244-8578-255.npy'\n",
      "[Errno 2] No such file or directory: '/home/user3/work/data/by_z_regression/minsk_t/6/unknown_dataset/f_0-278-9035-9383-255.npy'\n",
      "[Errno 2] No such file or directory: '/home/user3/work/data/by_z_regression/minsk_t/6/unknown_dataset/f_0-297-8631-8979-255.npy'\n",
      "[Errno 2] No such file or directory: '/home/user3/work/data/by_z_regression/minsk_t/6/unknown_dataset/f_5086-5427-0-258-255.npy'\n",
      "[Errno 2] No such file or directory: '/home/user3/work/data/by_z_regression/minsk_t/6/unknown_dataset/f_8361-8918-0-322-255.npy'\n",
      "[Errno 2] No such file or directory: '/home/user3/work/data/by_z_regression/minsk_t/6/unknown_dataset/f_0-207-6775-7134-255.npy'\n",
      "[Errno 2] No such file or directory: '/home/user3/work/data/by_z_regression/minsk_t/6/unknown_dataset/f_12990-13413-0-348-255.npy'\n"
     ]
    },
    {
     "name": "stderr",
     "output_type": "stream",
     "text": [
      " 46%|█████████████████                    | 2549/5514 [00:00<00:00, 3614.66it/s]"
     ]
    },
    {
     "name": "stdout",
     "output_type": "stream",
     "text": [
      "[Errno 2] No such file or directory: '/home/user3/work/data/by_z_regression/minsk_t/6/unknown_dataset/f_7362-7717-0-256-255.npy'\n",
      "[Errno 2] No such file or directory: '/home/user3/work/data/by_z_regression/minsk_t/6/unknown_dataset/f_0-200-8118-8454-255.npy'\n",
      "[Errno 2] No such file or directory: '/home/user3/work/data/by_z_regression/minsk_t/6/unknown_dataset/f_7465-7820-0-172-255.npy'\n",
      "[Errno 2] No such file or directory: '/home/user3/work/data/by_z_regression/minsk_t/6/unknown_dataset/f_0-295-8006-8360-255.npy'\n",
      "[Errno 2] No such file or directory: '/home/user3/work/data/by_z_regression/minsk_t/6/unknown_dataset/f_11319-11649-15293-15485-255.npy'\n",
      "[Errno 2] No such file or directory: '/home/user3/work/data/by_z_regression/minsk_t/6/unknown_dataset/f_6612-6955-0-339-255.npy'\n",
      "[Errno 2] No such file or directory: '/home/user3/work/data/by_z_regression/minsk_t/6/unknown_dataset/f_6474-6820-0-292-255.npy'\n"
     ]
    },
    {
     "name": "stderr",
     "output_type": "stream",
     "text": [
      " 53%|███████████████████▌                 | 2912/5514 [00:00<00:00, 3617.30it/s]"
     ]
    },
    {
     "name": "stdout",
     "output_type": "stream",
     "text": [
      "[Errno 2] No such file or directory: '/home/user3/work/data/by_z_regression/minsk_t/6/unknown_dataset/f_10547-10890-0-276-255.npy'\n",
      "[Errno 2] No such file or directory: '/home/user3/work/data/by_z_regression/minsk_t/6/unknown_dataset/f_17970-18340-0-225-255.npy'\n",
      "[Errno 2] No such file or directory: '/home/user3/work/data/by_z_regression/minsk_t/6/unknown_dataset/f_7258-7612-0-245-255.npy'\n",
      "[Errno 2] No such file or directory: '/home/user3/work/data/by_z_regression/minsk_t/6/unknown_dataset/f_15751-16098-0-216-255.npy'\n",
      "[Errno 2] No such file or directory: '/home/user3/work/data/by_z_regression/minsk_t/6/unknown_dataset/f_7179-7501-8226-8549-255.npy'\n",
      "[Errno 2] No such file or directory: '/home/user3/work/data/by_z_regression/minsk_t/6/unknown_dataset/f_0-262-7578-7943-255.npy'\n",
      "[Errno 2] No such file or directory: '/home/user3/work/data/by_z_regression/minsk_t/6/unknown_dataset/f_18625-18950-0-163-255.npy'\n",
      "[Errno 2] No such file or directory: '/home/user3/work/data/by_z_regression/minsk_t/6/unknown_dataset/f_10379-10715-0-289-255.npy'\n",
      "[Errno 2] No such file or directory: '/home/user3/work/data/by_z_regression/minsk_t/6/unknown_dataset/f_10600-10956-0-173-255.npy'\n",
      "[Errno 2] No such file or directory: '/home/user3/work/data/by_z_regression/minsk_t/6/unknown_dataset/f_10863-11291-0-294-255.npy'\n",
      "[Errno 2] No such file or directory: '/home/user3/work/data/by_z_regression/minsk_t/6/unknown_dataset/f_10163-10525-0-259-255.npy'\n",
      "[Errno 2] No such file or directory: '/home/user3/work/data/by_z_regression/minsk_t/6/unknown_dataset/f_10402-10736-0-265-255.npy'\n",
      "[Errno 2] No such file or directory: '/home/user3/work/data/by_z_regression/minsk_t/6/unknown_dataset/f_0-274-6882-7229-255.npy'\n",
      "[Errno 2] No such file or directory: '/home/user3/work/data/by_z_regression/minsk_t/6/unknown_dataset/f_7036-7383-0-248-255.npy'\n",
      "[Errno 2] No such file or directory: '/home/user3/work/data/by_z_regression/minsk_t/6/unknown_dataset/f_10309-10654-0-245-255.npy'\n",
      "[Errno 2] No such file or directory: '/home/user3/work/data/by_z_regression/minsk_t/6/unknown_dataset/f_0-212-6670-7030-255.npy'\n"
     ]
    },
    {
     "name": "stderr",
     "output_type": "stream",
     "text": [
      " 59%|█████████████████████▉               | 3274/5514 [00:00<00:00, 3595.84it/s]"
     ]
    },
    {
     "name": "stdout",
     "output_type": "stream",
     "text": [
      "[Errno 2] No such file or directory: '/home/user3/work/data/by_z_regression/minsk_t/6/unknown_dataset/f_8592-8950-15271-15485-255.npy'\n",
      "[Errno 2] No such file or directory: '/home/user3/work/data/by_z_regression/minsk_t/6/unknown_dataset/f_0-248-7387-7735-255.npy'\n",
      "[Errno 2] No such file or directory: '/home/user3/work/data/by_z_regression/minsk_t/6/unknown_dataset/f_7774-8209-0-190-255.npy'\n",
      "[Errno 2] No such file or directory: '/home/user3/work/data/by_z_regression/minsk_t/6/unknown_dataset/f_0-216-7299-7631-255.npy'\n",
      "[Errno 2] No such file or directory: '/home/user3/work/data/by_z_regression/minsk_t/6/unknown_dataset/f_0-281-7186-7546-255.npy'\n"
     ]
    },
    {
     "name": "stderr",
     "output_type": "stream",
     "text": [
      " 66%|████████████████████████▍            | 3651/5514 [00:01<00:00, 3648.70it/s]"
     ]
    },
    {
     "name": "stdout",
     "output_type": "stream",
     "text": [
      "[Errno 2] No such file or directory: '/home/user3/work/data/by_z_regression/minsk_t/6/unknown_dataset/f_7021-7349-0-161-255.npy'\n",
      "[Errno 2] No such file or directory: '/home/user3/work/data/by_z_regression/minsk_t/6/unknown_dataset/f_11538-11875-0-168-255.npy'\n",
      "[Errno 2] No such file or directory: '/home/user3/work/data/by_z_regression/minsk_t/6/unknown_dataset/f_10561-10895-0-237-255.npy'\n",
      "[Errno 2] No such file or directory: '/home/user3/work/data/by_z_regression/minsk_t/6/unknown_dataset/f_10481-10828-0-250-255.npy'\n",
      "[Errno 2] No such file or directory: '/home/user3/work/data/by_z_regression/minsk_t/6/unknown_dataset/f_0-204-8500-8846-255.npy'\n",
      "[Errno 2] No such file or directory: '/home/user3/work/data/by_z_regression/minsk_t/6/unknown_dataset/f_0-173-197-543-255.npy'\n",
      "[Errno 2] No such file or directory: '/home/user3/work/data/by_z_regression/minsk_t/6/unknown_dataset/f_10228-10564-0-225-255.npy'\n",
      "[Errno 2] No such file or directory: '/home/user3/work/data/by_z_regression/minsk_t/6/unknown_dataset/f_0-246-350-711-255.npy'\n",
      "[Errno 2] No such file or directory: '/home/user3/work/data/by_z_regression/minsk_t/6/unknown_dataset/f_12627-12964-15277-15485-255.npy'\n",
      "[Errno 2] No such file or directory: '/home/user3/work/data/by_z_regression/minsk_t/6/unknown_dataset/f_12741-13094-0-174-255.npy'\n",
      "[Errno 2] No such file or directory: '/home/user3/work/data/by_z_regression/minsk_t/6/unknown_dataset/f_15012-15381-0-335-255.npy'\n"
     ]
    },
    {
     "name": "stderr",
     "output_type": "stream",
     "text": [
      " 73%|███████████████████████████          | 4033/5514 [00:01<00:00, 3697.80it/s]"
     ]
    },
    {
     "name": "stdout",
     "output_type": "stream",
     "text": [
      "[Errno 2] No such file or directory: '/home/user3/work/data/by_z_regression/minsk_t/6/unknown_dataset/f_10444-10789-0-187-255.npy'\n",
      "[Errno 2] No such file or directory: '/home/user3/work/data/by_z_regression/minsk_t/6/unknown_dataset/f_18039-18378-0-201-255.npy'\n",
      "[Errno 2] No such file or directory: '/home/user3/work/data/by_z_regression/minsk_t/6/unknown_dataset/f_7044-7373-0-184-255.npy'\n",
      "[Errno 2] No such file or directory: '/home/user3/work/data/by_z_regression/minsk_t/6/unknown_dataset/f_0-317-7632-7980-255.npy'\n",
      "[Errno 2] No such file or directory: '/home/user3/work/data/by_z_regression/minsk_t/6/unknown_dataset/f_0-305-8376-8748-255.npy'\n"
     ]
    },
    {
     "name": "stderr",
     "output_type": "stream",
     "text": [
      " 80%|█████████████████████████████▌       | 4403/5514 [00:01<00:00, 3649.10it/s]"
     ]
    },
    {
     "name": "stdout",
     "output_type": "stream",
     "text": [
      "[Errno 2] No such file or directory: '/home/user3/work/data/by_z_regression/minsk_t/6/unknown_dataset/f_7422-7756-0-229-255.npy'\n",
      "[Errno 2] No such file or directory: '/home/user3/work/data/by_z_regression/minsk_t/6/unknown_dataset/f_12409-12747-15298-15485-255.npy'\n",
      "[Errno 2] No such file or directory: '/home/user3/work/data/by_z_regression/minsk_t/6/unknown_dataset/f_18406-18743-0-207-255.npy'\n",
      "[Errno 2] No such file or directory: '/home/user3/work/data/by_z_regression/minsk_t/6/unknown_dataset/f_0-170-6929-7268-255.npy'\n",
      "[Errno 2] No such file or directory: '/home/user3/work/data/by_z_regression/minsk_t/6/unknown_dataset/f_0-246-554-906-255.npy'\n",
      "[Errno 2] No such file or directory: '/home/user3/work/data/by_z_regression/minsk_t/6/unknown_dataset/f_10247-10597-0-276-255.npy'\n",
      "[Errno 2] No such file or directory: '/home/user3/work/data/by_z_regression/minsk_t/6/unknown_dataset/f_0-248-413-769-255.npy'\n",
      "[Errno 2] No such file or directory: '/home/user3/work/data/by_z_regression/minsk_t/6/unknown_dataset/f_10080-10456-15298-15485-255.npy'\n",
      "[Errno 2] No such file or directory: '/home/user3/work/data/by_z_regression/minsk_t/6/unknown_dataset/f_10370-10703-0-180-255.npy'\n",
      "[Errno 2] No such file or directory: '/home/user3/work/data/by_z_regression/minsk_t/6/unknown_dataset/f_10428-10787-0-271-255.npy'\n",
      "[Errno 2] No such file or directory: '/home/user3/work/data/by_z_regression/minsk_t/6/unknown_dataset/f_0-312-0-186-255.npy'\n",
      "[Errno 2] No such file or directory: '/home/user3/work/data/by_z_regression/minsk_t/6/unknown_dataset/f_0-251-171-527-255.npy'\n",
      "[Errno 2] No such file or directory: '/home/user3/work/data/by_z_regression/minsk_t/6/unknown_dataset/f_0-204-7843-8190-255.npy'\n",
      "[Errno 2] No such file or directory: '/home/user3/work/data/by_z_regression/minsk_t/6/unknown_dataset/f_0-303-8254-8611-255.npy'\n",
      "[Errno 2] No such file or directory: '/home/user3/work/data/by_z_regression/minsk_t/6/unknown_dataset/f_10270-10617-0-202-255.npy'\n",
      "[Errno 2] No such file or directory: '/home/user3/work/data/by_z_regression/minsk_t/6/unknown_dataset/f_0-244-7227-7599-255.npy'\n",
      "[Errno 2] No such file or directory: '/home/user3/work/data/by_z_regression/minsk_t/6/unknown_dataset/f_0-286-8984-9337-255.npy'\n",
      "[Errno 2] No such file or directory: '/home/user3/work/data/by_z_regression/minsk_t/6/unknown_dataset/f_10318-10677-0-306-255.npy'\n",
      "[Errno 2] No such file or directory: '/home/user3/work/data/by_z_regression/minsk_t/6/unknown_dataset/f_10817-11214-0-241-255.npy'\n",
      "[Errno 2] No such file or directory: '/home/user3/work/data/by_z_regression/minsk_t/6/unknown_dataset/f_0-312-261-612-255.npy'\n",
      "[Errno 2] No such file or directory: '/home/user3/work/data/by_z_regression/minsk_t/6/unknown_dataset/f_10692-11129-0-223-255.npy'\n",
      "[Errno 2] No such file or directory: '/home/user3/work/data/by_z_regression/minsk_t/6/unknown_dataset/f_10283-10614-0-246-255.npy'\n",
      "[Errno 2] No such file or directory: '/home/user3/work/data/by_z_regression/minsk_t/6/unknown_dataset/f_10684-11057-0-180-255.npy'\n",
      "[Errno 2] No such file or directory: '/home/user3/work/data/by_z_regression/minsk_t/6/unknown_dataset/f_10530-10877-0-211-255.npy'\n"
     ]
    },
    {
     "name": "stderr",
     "output_type": "stream",
     "text": [
      " 87%|████████████████████████████████     | 4775/5514 [00:01<00:00, 3667.65it/s]"
     ]
    },
    {
     "name": "stdout",
     "output_type": "stream",
     "text": [
      "[Errno 2] No such file or directory: '/home/user3/work/data/by_z_regression/minsk_t/6/unknown_dataset/f_18002-18526-0-414-255.npy'\n",
      "[Errno 2] No such file or directory: '/home/user3/work/data/by_z_regression/minsk_t/6/unknown_dataset/f_10110-10454-0-263-255.npy'\n",
      "[Errno 2] No such file or directory: '/home/user3/work/data/by_z_regression/minsk_t/6/unknown_dataset/f_0-231-7430-7800-255.npy'\n",
      "[Errno 2] No such file or directory: '/home/user3/work/data/by_z_regression/minsk_t/6/unknown_dataset/f_0-201-8571-8941-255.npy'\n",
      "[Errno 2] No such file or directory: '/home/user3/work/data/by_z_regression/minsk_t/6/unknown_dataset/f_10478-10843-0-182-255.npy'\n",
      "[Errno 2] No such file or directory: '/home/user3/work/data/by_z_regression/minsk_t/6/unknown_dataset/f_0-238-274-621-255.npy'\n"
     ]
    },
    {
     "name": "stderr",
     "output_type": "stream",
     "text": [
      " 93%|██████████████████████████████████▌  | 5142/5514 [00:01<00:00, 3642.35it/s]"
     ]
    },
    {
     "name": "stdout",
     "output_type": "stream",
     "text": [
      "[Errno 2] No such file or directory: '/home/user3/work/data/by_z_regression/minsk_t/6/unknown_dataset/f_0-232-6718-7068-255.npy'\n",
      "[Errno 2] No such file or directory: '/home/user3/work/data/by_z_regression/minsk_t/6/unknown_dataset/f_0-164-7180-7507-255.npy'\n",
      "[Errno 2] No such file or directory: '/home/user3/work/data/by_z_regression/minsk_t/6/unknown_dataset/f_0-164-7460-7789-255.npy'\n",
      "[Errno 2] No such file or directory: '/home/user3/work/data/by_z_regression/minsk_t/6/unknown_dataset/f_7526-7874-0-312-255.npy'\n",
      "[Errno 2] No such file or directory: '/home/user3/work/data/by_z_regression/minsk_t/6/unknown_dataset/f_10213-10552-0-269-255.npy'\n",
      "[Errno 2] No such file or directory: '/home/user3/work/data/by_z_regression/minsk_t/6/unknown_dataset/f_10691-11126-0-322-255.npy'\n"
     ]
    },
    {
     "name": "stderr",
     "output_type": "stream",
     "text": [
      "100%|█████████████████████████████████████| 5514/5514 [00:01<00:00, 3646.77it/s]"
     ]
    },
    {
     "name": "stdout",
     "output_type": "stream",
     "text": [
      "[Errno 2] No such file or directory: '/home/user3/work/data/by_z_regression/minsk_t/6/unknown_dataset/f_0-182-7769-8139-255.npy'\n",
      "[Errno 2] No such file or directory: '/home/user3/work/data/by_z_regression/minsk_t/6/unknown_dataset/f_10325-10677-0-180-255.npy'\n",
      "[Errno 2] No such file or directory: '/home/user3/work/data/by_z_regression/minsk_t/6/unknown_dataset/f_7189-7711-15175-15485-255.npy'\n",
      "[Errno 2] No such file or directory: '/home/user3/work/data/by_z_regression/minsk_t/6/unknown_dataset/f_0-191-8857-9208-255.npy'\n",
      "[Errno 2] No such file or directory: '/home/user3/work/data/by_z_regression/minsk_t/6/unknown_dataset/f_8308-8657-0-300-255.npy'\n",
      "[Errno 2] No such file or directory: '/home/user3/work/data/by_z_regression/minsk_t/6/unknown_dataset/f_6472-6818-0-225-255.npy'\n",
      "[Errno 2] No such file or directory: '/home/user3/work/data/by_z_regression/minsk_t/6/unknown_dataset/f_10240-10581-0-199-255.npy'\n",
      "[Errno 2] No such file or directory: '/home/user3/work/data/by_z_regression/minsk_t/6/unknown_dataset/f_0-191-8279-8647-255.npy'\n",
      "[Errno 2] No such file or directory: '/home/user3/work/data/by_z_regression/minsk_t/6/unknown_dataset/f_10299-10777-15136-15485-255.npy'\n",
      "[Errno 2] No such file or directory: '/home/user3/work/data/by_z_regression/minsk_t/6/unknown_dataset/f_10497-10841-0-300-255.npy'\n",
      "[Errno 2] No such file or directory: '/home/user3/work/data/by_z_regression/minsk_t/6/unknown_dataset/f_10339-10682-13606-14132-255.npy'\n",
      "Loaded 5360\n"
     ]
    },
    {
     "name": "stderr",
     "output_type": "stream",
     "text": [
      "\n"
     ]
    }
   ],
   "source": [
    "image_prefix = 'i_'\n",
    "mask_prefix = 'm_'\n",
    "fm_prefix = 'f_'\n",
    "\n",
    "unknown_folder = os.path.join(work_path, 'unknown_dataset')\n",
    "folder_list = [unknown_folder, ]\n",
    "unknown_dataset = []\n",
    "for k, folder in enumerate(folder_list, start=1):\n",
    "    print('Started', k, 'of', len(folder_list))\n",
    "    dataset_name = folder.split('_')[-1]\n",
    "    dataset_items = [fn[len(mask_prefix): ] for fn in os.listdir(folder) if os.path.isfile(os.path.join(folder, fn)) and fn.startswith(mask_prefix)]\n",
    "    for n in trange(len(dataset_items)):\n",
    "        dataset_item = dataset_items[n]\n",
    "        ip = os.path.join(folder, image_prefix + dataset_item)\n",
    "        mp = os.path.join(folder, mask_prefix + dataset_item)\n",
    "        \n",
    "        h1, h2, w1, w2, l = ip.split('/')[-1].split('.')[-2].split('_')[-1].split('-')\n",
    "        name = \"{}-{}-{}-{}-{}\".format(str(h1), str(h2), str(w1), str(w2), str(level))\n",
    "        \n",
    "        fp = os.path.join(folder, fm_prefix + name + '.npy')\n",
    "        try:\n",
    "            level = dataset_item.split('.')[-2].split('-')[-1]\n",
    "            with open(fp, 'rb') as f:\n",
    "                 features_loaded = np.load(f)\n",
    "        except Exception as e:\n",
    "            print(str(e))\n",
    "            continue\n",
    "        unknown_dataset.append((ip, mp, fp, level, features_loaded))\n",
    "print('Loaded', len(unknown_dataset))"
   ]
  },
  {
   "cell_type": "code",
   "execution_count": 7,
   "id": "ab48f9db-f92e-4cb9-bd74-9f120c4ce556",
   "metadata": {},
   "outputs": [
    {
     "name": "stderr",
     "output_type": "stream",
     "text": [
      "100%|███████████████████████████████████████| 5360/5360 [02:21<00:00, 37.82it/s]\n"
     ]
    },
    {
     "name": "stdout",
     "output_type": "stream",
     "text": [
      "Merged rastr ready!\n"
     ]
    }
   ],
   "source": [
    "random.shuffle(unknown_dataset)\n",
    "\n",
    "unknown_image_path =  os.path.join(work_path, 'query.tif')\n",
    "candidate_image_path =  os.path.join(work_path, 'candidate.tif')\n",
    "\n",
    "candidate_image_rastr = tifffile.imread(unknown_image_path) * 0\n",
    "\n",
    "for i in trange(len(unknown_dataset)):\n",
    "    u = unknown_dataset[i]\n",
    "    ip, mp, fp, level, ft = u\n",
    "    \n",
    "    h1, h2, w1, w2, l = ip.split('/')[-1].split('.')[-2].split('_')[-1].split('-')\n",
    "    h1, h2, w1, w2, l = int(h1), int(h2), int(w1), int(w2), int(l)\n",
    "    \n",
    "    candidates = []\n",
    "    for cip, cmp, cfp, clevel, cft in known_dataset:\n",
    "        dist = np.linalg.norm(ft-cft)\n",
    "        candidates.append((dist, cip, cmp, cfp, clevel, cft))\n",
    "    candidates = sorted(candidates, key=lambda x: x[0])\n",
    "    \n",
    "    # Best one\n",
    "    dist, cip, cmp, cfp, clevel, cft = candidates[0]\n",
    "    \n",
    "    mask = cv2.imread(mp).clip(0, 1) * int(clevel)\n",
    "    candidate_image_rastr \n",
    "    candidate_image_rastr[h1:h2, w1:w2] = candidate_image_rastr[h1:h2, w1:w2] + mask[..., 0]\n",
    "    \n",
    "    unknown_image = cv2.imread(ip)\n",
    "    best_image = cv2.imread(cip)\n",
    "    unknown_image = cv2.imread(ip)\n",
    "    mak = cv2.imread(mp)\n",
    "    \n",
    "    # print(dist)\n",
    "    # print(level, clevel)\n",
    "    # plt.imshow(unknown_image)\n",
    "    # plt.show()\n",
    "    # plt.imshow(mak)\n",
    "    # plt.show()\n",
    "    # break\n",
    "    \n",
    "dataset = rasterio.open(unknown_image_path)\n",
    "profile = dataset.profile\n",
    "dataset.close()\n",
    "\n",
    "with rasterio.open(candidate_image_path, 'w', **profile) as dst:\n",
    "    dst.write(candidate_image_rastr.astype(rasterio.uint8), 1)\n",
    "print('Merged rastr ready!')"
   ]
  },
  {
   "cell_type": "code",
   "execution_count": null,
   "id": "ca0a6c1e-2276-42ef-98f4-0694470e1d9a",
   "metadata": {},
   "outputs": [],
   "source": []
  }
 ],
 "metadata": {
  "kernelspec": {
   "display_name": "Python 3 (ipykernel)",
   "language": "python",
   "name": "python3"
  },
  "language_info": {
   "codemirror_mode": {
    "name": "ipython",
    "version": 3
   },
   "file_extension": ".py",
   "mimetype": "text/x-python",
   "name": "python",
   "nbconvert_exporter": "python",
   "pygments_lexer": "ipython3",
   "version": "3.8.10"
  }
 },
 "nbformat": 4,
 "nbformat_minor": 5
}
