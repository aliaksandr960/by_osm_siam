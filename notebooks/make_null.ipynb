{
 "cells": [
  {
   "cell_type": "code",
   "execution_count": 4,
   "id": "850f0507-d012-4ccf-8a77-ee18f4e68b43",
   "metadata": {},
   "outputs": [],
   "source": [
    "import cv2\n",
    "import numpy as np\n",
    "import rasterio"
   ]
  },
  {
   "cell_type": "code",
   "execution_count": 5,
   "id": "84c9132f-453b-4c56-851b-7438e46ea127",
   "metadata": {},
   "outputs": [],
   "source": [
    "areal_image_path = '/home/user3/work/data/by_z_regression/bobruisk_t/75_r_bobruisk.tif'\n",
    "areal_image_rastr = cv2.imread(areal_image_path)"
   ]
  },
  {
   "cell_type": "code",
   "execution_count": 6,
   "id": "d69741aa-14fa-448b-bddb-913d7c940738",
   "metadata": {},
   "outputs": [],
   "source": [
    "dataset = rasterio.open(areal_image_path)\n",
    "profile = dataset.profile\n",
    "dataset.close()"
   ]
  },
  {
   "cell_type": "code",
   "execution_count": 7,
   "id": "5f6915bf-4e9c-4f84-92ed-eeb1b91d97bb",
   "metadata": {},
   "outputs": [
    {
     "name": "stdout",
     "output_type": "stream",
     "text": [
      "Null rastr ready!\n"
     ]
    }
   ],
   "source": [
    "# Make null rastr\n",
    "null_path = '/home/user3/work/data/by_z_regression/bobruisk_t/null.tif'\n",
    "\n",
    "null_raster = areal_image_rastr * 0\n",
    "with rasterio.open(null_path, 'w', **profile) as dst:\n",
    "    dst.write(null_raster.astype(rasterio.uint8)[..., 0], 1)\n",
    "print('Null rastr ready!')\n",
    "del null_raster"
   ]
  },
  {
   "cell_type": "code",
   "execution_count": null,
   "id": "87129ff0-0e59-4649-8c67-a72842e2fbbd",
   "metadata": {},
   "outputs": [],
   "source": []
  }
 ],
 "metadata": {
  "kernelspec": {
   "display_name": "Python 3 (ipykernel)",
   "language": "python",
   "name": "python3"
  },
  "language_info": {
   "codemirror_mode": {
    "name": "ipython",
    "version": 3
   },
   "file_extension": ".py",
   "mimetype": "text/x-python",
   "name": "python",
   "nbconvert_exporter": "python",
   "pygments_lexer": "ipython3",
   "version": "3.8.10"
  }
 },
 "nbformat": 4,
 "nbformat_minor": 5
}
