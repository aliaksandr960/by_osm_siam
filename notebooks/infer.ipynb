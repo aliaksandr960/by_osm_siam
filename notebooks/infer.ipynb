{
 "cells": [
  {
   "cell_type": "code",
   "execution_count": 1,
   "id": "5360fbd6-ad57-459f-8f1d-5ba2d27f50a0",
   "metadata": {
    "tags": []
   },
   "outputs": [],
   "source": [
    "import os\n",
    "import sys\n",
    "import copy\n",
    "import random\n",
    "import json\n",
    "from tqdm import tqdm, trange"
   ]
  },
  {
   "cell_type": "code",
   "execution_count": 2,
   "id": "c6ccda9b-5e0f-439c-a197-044bb24abc08",
   "metadata": {},
   "outputs": [],
   "source": [
    "import numpy as np\n",
    "import cv2\n",
    "import albumentations as alb"
   ]
  },
  {
   "cell_type": "code",
   "execution_count": 3,
   "id": "8bbaeae9-6e3d-4f97-b005-e91194952b99",
   "metadata": {},
   "outputs": [],
   "source": [
    "from tqdm import tqdm\n",
    "import matplotlib.pyplot as plt"
   ]
  },
  {
   "cell_type": "code",
   "execution_count": 4,
   "id": "3e3d7855-9c99-438f-96c6-fd27adfcbaea",
   "metadata": {},
   "outputs": [],
   "source": [
    "from sklearn.model_selection import train_test_split\n",
    "from torch.utils.data import DataLoader\n",
    "from torch.utils.data import Dataset as BaseDataset\n",
    "\n",
    "import timm\n",
    "\n",
    "import torch\n",
    "import torch.nn as nn\n",
    "import torch.nn.functional as F\n",
    "import torch.optim as optim"
   ]
  },
  {
   "cell_type": "code",
   "execution_count": 5,
   "id": "7fd932ac-9b5c-4974-99f2-c0d5fefea0cd",
   "metadata": {},
   "outputs": [],
   "source": [
    "work_path = '/home/user3/work/data/by_z_regression/minsk_t/6/known_dataset'"
   ]
  },
  {
   "cell_type": "markdown",
   "id": "22e38785-a9b0-4d89-aa5f-90fa2a024c3f",
   "metadata": {},
   "source": [
    "## Load dataset"
   ]
  },
  {
   "cell_type": "code",
   "execution_count": 6,
   "id": "abd27b81-e48a-4072-8817-25b2cb3c74af",
   "metadata": {},
   "outputs": [],
   "source": [
    "def get_image_level(image_path, mask_path, size=(256, 256), aug=None, pad=48, border=128):\n",
    "    image = cv2.imread(image_path)\n",
    "    mask = cv2.imread(mask_path)[:,:,0]\n",
    "    h, w = mask.shape\n",
    "\n",
    "    levels = np.max(mask)\n",
    "    if aug:\n",
    "        sample = aug(image=image, mask=mask)\n",
    "        image, mask = sample['image'], sample['mask']\n",
    "    \n",
    "    half_size = int(mask.shape[0] / 2)\n",
    "    sh, sw = half_size, None\n",
    "    for i in range(mask.shape[1]):\n",
    "        v = mask[half_size, i]\n",
    "        if v != 0:\n",
    "            sw = i\n",
    "            break\n",
    "    if sw is None:\n",
    "        raise ValueError('Object box not found')\n",
    "    \n",
    "    h1, h2 = int(sh - size[0] / 2), int(sh + size[0] / 2)\n",
    "    w1, w2 = int(sw - size[1] / 2), int(sw + size[1] / 2)\n",
    "    \n",
    "    kernel = cv2.getStructuringElement(cv2.MORPH_ELLIPSE, (border, border))\n",
    "    image_mask = mask.copy()\n",
    "    image_mask = cv2.dilate(image_mask, kernel, iterations=1).clip(0, 1)\n",
    "    image = image * np.stack([image_mask, image_mask, image_mask], axis=-1)\n",
    "\n",
    "    mask = mask[h1:h2, w1:w2]\n",
    "    \n",
    "    result = image.copy()[h1:h2, w1:w2, :]\n",
    "    return result, levels"
   ]
  },
  {
   "cell_type": "code",
   "execution_count": 7,
   "id": "5adcef07-fb53-483b-93da-9fe9217faae3",
   "metadata": {},
   "outputs": [
    {
     "name": "stderr",
     "output_type": "stream",
     "text": [
      "  2%|▉                                        | 41/1718 [00:02<01:23, 19.99it/s]"
     ]
    },
    {
     "name": "stdout",
     "output_type": "stream",
     "text": [
      "Skipped with shape != 256 /home/user3/work/data/by_z_regression/minsk_t/6/known_dataset/i_11716-12110-0-321-5.tif\n"
     ]
    },
    {
     "name": "stderr",
     "output_type": "stream",
     "text": [
      "  4%|█▊                                       | 76/1718 [00:04<01:46, 15.47it/s]"
     ]
    },
    {
     "name": "stdout",
     "output_type": "stream",
     "text": [
      "Skipped with shape != 256 /home/user3/work/data/by_z_regression/minsk_t/6/known_dataset/i_11545-11921-0-355-8.tif\n"
     ]
    },
    {
     "name": "stderr",
     "output_type": "stream",
     "text": [
      "  5%|██▏                                      | 91/1718 [00:05<01:21, 20.06it/s]"
     ]
    },
    {
     "name": "stdout",
     "output_type": "stream",
     "text": [
      "Skipped with shape != 256 /home/user3/work/data/by_z_regression/minsk_t/6/known_dataset/i_13769-14161-0-272-4.tif\n"
     ]
    },
    {
     "name": "stderr",
     "output_type": "stream",
     "text": [
      "  6%|██▌                                     | 108/1718 [00:05<01:14, 21.72it/s]"
     ]
    },
    {
     "name": "stdout",
     "output_type": "stream",
     "text": [
      "Skipped with shape != 256 /home/user3/work/data/by_z_regression/minsk_t/6/known_dataset/i_13356-13693-0-168-4.tif\n"
     ]
    },
    {
     "name": "stderr",
     "output_type": "stream",
     "text": [
      "  8%|███▏                                    | 138/1718 [00:07<01:28, 17.80it/s]"
     ]
    },
    {
     "name": "stdout",
     "output_type": "stream",
     "text": [
      "Skipped with shape != 256 /home/user3/work/data/by_z_regression/minsk_t/6/known_dataset/i_18519-18872-0-253-1.tif\n"
     ]
    },
    {
     "name": "stderr",
     "output_type": "stream",
     "text": [
      " 11%|████▎                                   | 185/1718 [00:09<01:08, 22.45it/s]"
     ]
    },
    {
     "name": "stdout",
     "output_type": "stream",
     "text": [
      "Skipped with shape != 256 /home/user3/work/data/by_z_regression/minsk_t/6/known_dataset/i_13415-13824-0-211-9.tif\n"
     ]
    },
    {
     "name": "stderr",
     "output_type": "stream",
     "text": [
      " 11%|████▌                                   | 194/1718 [00:10<01:08, 22.17it/s]"
     ]
    },
    {
     "name": "stdout",
     "output_type": "stream",
     "text": [
      "Skipped with shape != 256 /home/user3/work/data/by_z_regression/minsk_t/6/known_dataset/i_6093-6453-0-289-1.tif\n"
     ]
    },
    {
     "name": "stderr",
     "output_type": "stream",
     "text": [
      " 14%|█████▍                                  | 236/1718 [00:12<01:17, 19.13it/s]"
     ]
    },
    {
     "name": "stdout",
     "output_type": "stream",
     "text": [
      "Skipped with shape != 256 /home/user3/work/data/by_z_regression/minsk_t/6/known_dataset/i_12232-12713-0-297-5.tif\n"
     ]
    },
    {
     "name": "stderr",
     "output_type": "stream",
     "text": [
      " 16%|██████▎                                 | 273/1718 [00:14<01:06, 21.60it/s]"
     ]
    },
    {
     "name": "stdout",
     "output_type": "stream",
     "text": [
      "Skipped with shape != 256 /home/user3/work/data/by_z_regression/minsk_t/6/known_dataset/i_18543-18954-0-285-1.tif\n"
     ]
    },
    {
     "name": "stderr",
     "output_type": "stream",
     "text": [
      " 18%|███████▍                                | 317/1718 [00:16<01:07, 20.62it/s]"
     ]
    },
    {
     "name": "stdout",
     "output_type": "stream",
     "text": [
      "Skipped with shape != 256 /home/user3/work/data/by_z_regression/minsk_t/6/known_dataset/i_11142-11490-0-195-5.tif\n"
     ]
    },
    {
     "name": "stderr",
     "output_type": "stream",
     "text": [
      " 23%|█████████▎                              | 400/1718 [00:21<00:58, 22.45it/s]"
     ]
    },
    {
     "name": "stdout",
     "output_type": "stream",
     "text": [
      "Skipped with shape != 256 /home/user3/work/data/by_z_regression/minsk_t/6/known_dataset/i_13705-14058-0-174-2.tif\n"
     ]
    },
    {
     "name": "stderr",
     "output_type": "stream",
     "text": [
      " 24%|█████████▋                              | 415/1718 [00:22<01:02, 20.71it/s]"
     ]
    },
    {
     "name": "stdout",
     "output_type": "stream",
     "text": [
      "Skipped with shape != 256 /home/user3/work/data/by_z_regression/minsk_t/6/known_dataset/i_12933-13322-0-307-8.tif\n"
     ]
    },
    {
     "name": "stderr",
     "output_type": "stream",
     "text": [
      " 26%|██████████▍                             | 446/1718 [00:23<01:18, 16.22it/s]"
     ]
    },
    {
     "name": "stdout",
     "output_type": "stream",
     "text": [
      "Skipped with shape != 256 /home/user3/work/data/by_z_regression/minsk_t/6/known_dataset/i_5920-6339-0-235-2.tif\n"
     ]
    },
    {
     "name": "stderr",
     "output_type": "stream",
     "text": [
      " 27%|██████████▊                             | 467/1718 [00:25<01:06, 18.82it/s]"
     ]
    },
    {
     "name": "stdout",
     "output_type": "stream",
     "text": [
      "Skipped with shape != 256 /home/user3/work/data/by_z_regression/minsk_t/6/known_dataset/i_11406-11754-0-204-5.tif\n"
     ]
    },
    {
     "name": "stderr",
     "output_type": "stream",
     "text": [
      " 29%|███████████▌                            | 497/1718 [00:26<00:59, 20.55it/s]"
     ]
    },
    {
     "name": "stdout",
     "output_type": "stream",
     "text": [
      "Skipped with shape != 256 /home/user3/work/data/by_z_regression/minsk_t/6/known_dataset/i_11541-12008-0-221-5.tif\n"
     ]
    },
    {
     "name": "stderr",
     "output_type": "stream",
     "text": [
      " 31%|████████████▌                           | 540/1718 [00:28<00:57, 20.41it/s]"
     ]
    },
    {
     "name": "stdout",
     "output_type": "stream",
     "text": [
      "Skipped with shape != 256 /home/user3/work/data/by_z_regression/minsk_t/6/known_dataset/i_9745-10164-15209-15485-5.tif\n"
     ]
    },
    {
     "name": "stderr",
     "output_type": "stream",
     "text": [
      " 32%|████████████▊                           | 549/1718 [00:29<01:21, 14.36it/s]"
     ]
    },
    {
     "name": "stdout",
     "output_type": "stream",
     "text": [
      "Skipped with shape != 256 /home/user3/work/data/by_z_regression/minsk_t/6/known_dataset/i_12427-12830-0-239-5.tif\n"
     ]
    },
    {
     "name": "stderr",
     "output_type": "stream",
     "text": [
      " 33%|█████████████▏                          | 564/1718 [00:30<00:55, 20.90it/s]"
     ]
    },
    {
     "name": "stdout",
     "output_type": "stream",
     "text": [
      "Skipped with shape != 256 /home/user3/work/data/by_z_regression/minsk_t/6/known_dataset/i_244-602-0-252-2.tif\n",
      "Skipped with shape != 256 /home/user3/work/data/by_z_regression/minsk_t/6/known_dataset/i_11220-11688-0-253-5.tif\n"
     ]
    },
    {
     "name": "stderr",
     "output_type": "stream",
     "text": [
      " 36%|██████████████▌                         | 625/1718 [00:33<00:53, 20.61it/s]"
     ]
    },
    {
     "name": "stdout",
     "output_type": "stream",
     "text": [
      "Skipped with shape != 256 /home/user3/work/data/by_z_regression/minsk_t/6/known_dataset/i_8745-9204-15257-15485-9.tif\n"
     ]
    },
    {
     "name": "stderr",
     "output_type": "stream",
     "text": [
      " 37%|██████████████▉                         | 639/1718 [00:34<00:59, 18.26it/s]"
     ]
    },
    {
     "name": "stdout",
     "output_type": "stream",
     "text": [
      "Skipped with shape != 256 /home/user3/work/data/by_z_regression/minsk_t/6/known_dataset/i_5232-5589-0-340-1.tif\n"
     ]
    },
    {
     "name": "stderr",
     "output_type": "stream",
     "text": [
      " 38%|███████████████                         | 645/1718 [00:34<00:48, 22.13it/s]"
     ]
    },
    {
     "name": "stdout",
     "output_type": "stream",
     "text": [
      "Skipped with shape != 256 /home/user3/work/data/by_z_regression/minsk_t/6/known_dataset/i_13915-14248-0-191-1.tif\n"
     ]
    },
    {
     "name": "stderr",
     "output_type": "stream",
     "text": [
      " 38%|███████████████▎                        | 657/1718 [00:35<00:51, 20.71it/s]"
     ]
    },
    {
     "name": "stdout",
     "output_type": "stream",
     "text": [
      "Skipped with shape != 256 /home/user3/work/data/by_z_regression/minsk_t/6/known_dataset/i_149-491-0-182-2.tif\n"
     ]
    },
    {
     "name": "stderr",
     "output_type": "stream",
     "text": [
      " 44%|█████████████████▋                      | 760/1718 [00:40<00:45, 21.09it/s]"
     ]
    },
    {
     "name": "stdout",
     "output_type": "stream",
     "text": [
      "Skipped with shape != 256 /home/user3/work/data/by_z_regression/minsk_t/6/known_dataset/i_7080-7476-0-235-2.tif\n"
     ]
    },
    {
     "name": "stderr",
     "output_type": "stream",
     "text": [
      " 45%|█████████████████▊                      | 766/1718 [00:40<00:43, 21.84it/s]"
     ]
    },
    {
     "name": "stdout",
     "output_type": "stream",
     "text": [
      "Skipped with shape != 256 /home/user3/work/data/by_z_regression/minsk_t/6/known_dataset/i_6023-6348-0-163-2.tif\n"
     ]
    },
    {
     "name": "stderr",
     "output_type": "stream",
     "text": [
      " 46%|██████████████████▍                     | 793/1718 [00:41<00:43, 21.10it/s]"
     ]
    },
    {
     "name": "stdout",
     "output_type": "stream",
     "text": [
      "Skipped with shape != 256 /home/user3/work/data/by_z_regression/minsk_t/6/known_dataset/i_12807-13145-0-291-1.tif\n"
     ]
    },
    {
     "name": "stderr",
     "output_type": "stream",
     "text": [
      " 51%|████████████████████▍                   | 879/1718 [00:46<00:38, 21.71it/s]"
     ]
    },
    {
     "name": "stdout",
     "output_type": "stream",
     "text": [
      "Skipped with shape != 256 /home/user3/work/data/by_z_regression/minsk_t/6/known_dataset/i_14006-14403-0-190-4.tif\n"
     ]
    },
    {
     "name": "stderr",
     "output_type": "stream",
     "text": [
      " 53%|█████████████████████                   | 905/1718 [00:47<00:40, 20.08it/s]"
     ]
    },
    {
     "name": "stdout",
     "output_type": "stream",
     "text": [
      "Skipped with shape != 256 /home/user3/work/data/by_z_regression/minsk_t/6/known_dataset/i_13882-14253-0-327-4.tif\n"
     ]
    },
    {
     "name": "stderr",
     "output_type": "stream",
     "text": [
      " 53%|█████████████████████▎                  | 918/1718 [00:48<00:38, 20.65it/s]"
     ]
    },
    {
     "name": "stdout",
     "output_type": "stream",
     "text": [
      "Skipped with shape != 256 /home/user3/work/data/by_z_regression/minsk_t/6/known_dataset/i_9879-10348-15206-15485-5.tif\n"
     ]
    },
    {
     "name": "stderr",
     "output_type": "stream",
     "text": [
      " 54%|█████████████████████▌                  | 924/1718 [00:48<00:37, 21.10it/s]"
     ]
    },
    {
     "name": "stdout",
     "output_type": "stream",
     "text": [
      "Skipped with shape != 256 /home/user3/work/data/by_z_regression/minsk_t/6/known_dataset/i_6379-6786-15207-15485-1.tif\n",
      "Skipped with shape != 256 /home/user3/work/data/by_z_regression/minsk_t/6/known_dataset/i_5643-6013-0-187-9.tif\n"
     ]
    },
    {
     "name": "stderr",
     "output_type": "stream",
     "text": [
      " 55%|██████████████████████                  | 945/1718 [00:49<00:39, 19.46it/s]"
     ]
    },
    {
     "name": "stdout",
     "output_type": "stream",
     "text": [
      "Skipped with shape != 256 /home/user3/work/data/by_z_regression/minsk_t/6/known_dataset/i_12593-13074-0-312-5.tif\n"
     ]
    },
    {
     "name": "stderr",
     "output_type": "stream",
     "text": [
      " 58%|███████████████████████▏                | 994/1718 [00:52<00:34, 21.12it/s]"
     ]
    },
    {
     "name": "stdout",
     "output_type": "stream",
     "text": [
      "Skipped with shape != 256 /home/user3/work/data/by_z_regression/minsk_t/6/known_dataset/i_18364-18720-0-178-3.tif\n"
     ]
    },
    {
     "name": "stderr",
     "output_type": "stream",
     "text": [
      " 58%|██████████████████████▋                | 1000/1718 [00:52<00:33, 21.29it/s]"
     ]
    },
    {
     "name": "stdout",
     "output_type": "stream",
     "text": [
      "Skipped with shape != 256 /home/user3/work/data/by_z_regression/minsk_t/6/known_dataset/i_12811-13206-0-229-8.tif\n"
     ]
    },
    {
     "name": "stderr",
     "output_type": "stream",
     "text": [
      " 60%|███████████████████████▍               | 1035/1718 [00:54<00:31, 21.65it/s]"
     ]
    },
    {
     "name": "stdout",
     "output_type": "stream",
     "text": [
      "Skipped with shape != 256 /home/user3/work/data/by_z_regression/minsk_t/6/known_dataset/i_318-688-0-310-3.tif\n"
     ]
    },
    {
     "name": "stderr",
     "output_type": "stream",
     "text": [
      " 62%|████████████████████████▏              | 1068/1718 [00:56<00:30, 21.61it/s]"
     ]
    },
    {
     "name": "stdout",
     "output_type": "stream",
     "text": [
      "Skipped with shape != 256 /home/user3/work/data/by_z_regression/minsk_t/6/known_dataset/i_6807-7162-0-187-5.tif\n",
      "Skipped with shape != 256 /home/user3/work/data/by_z_regression/minsk_t/6/known_dataset/i_9720-10058-15316-15485-3.tif\n",
      "Skipped with shape != 256 /home/user3/work/data/by_z_regression/minsk_t/6/known_dataset/i_12114-12497-0-197-4.tif\n"
     ]
    },
    {
     "name": "stderr",
     "output_type": "stream",
     "text": [
      " 63%|████████████████████████▌              | 1080/1718 [00:56<00:28, 22.04it/s]"
     ]
    },
    {
     "name": "stdout",
     "output_type": "stream",
     "text": [
      "Skipped with shape != 256 /home/user3/work/data/by_z_regression/minsk_t/6/known_dataset/i_13548-13961-0-247-2.tif\n"
     ]
    },
    {
     "name": "stderr",
     "output_type": "stream",
     "text": [
      " 65%|█████████████████████████▏             | 1110/1718 [00:58<00:31, 19.31it/s]"
     ]
    },
    {
     "name": "stdout",
     "output_type": "stream",
     "text": [
      "Skipped with shape != 256 /home/user3/work/data/by_z_regression/minsk_t/6/known_dataset/i_18580-18928-0-242-1.tif\n"
     ]
    },
    {
     "name": "stderr",
     "output_type": "stream",
     "text": [
      " 66%|█████████████████████████▋             | 1132/1718 [00:59<00:28, 20.42it/s]"
     ]
    },
    {
     "name": "stdout",
     "output_type": "stream",
     "text": [
      "Skipped with shape != 256 /home/user3/work/data/by_z_regression/minsk_t/6/known_dataset/i_10962-11346-0-245-2.tif\n"
     ]
    },
    {
     "name": "stderr",
     "output_type": "stream",
     "text": [
      " 67%|██████████████████████████             | 1148/1718 [01:00<00:26, 21.68it/s]"
     ]
    },
    {
     "name": "stdout",
     "output_type": "stream",
     "text": [
      "Skipped with shape != 256 /home/user3/work/data/by_z_regression/minsk_t/6/known_dataset/i_9669-10008-15315-15485-3.tif\n"
     ]
    },
    {
     "name": "stderr",
     "output_type": "stream",
     "text": [
      " 67%|██████████████████████████▎            | 1157/1718 [01:00<00:28, 19.38it/s]"
     ]
    },
    {
     "name": "stdout",
     "output_type": "stream",
     "text": [
      "Skipped with shape != 256 /home/user3/work/data/by_z_regression/minsk_t/6/known_dataset/i_11840-12390-0-342-5.tif\n"
     ]
    },
    {
     "name": "stderr",
     "output_type": "stream",
     "text": [
      " 68%|██████████████████████████▌            | 1172/1718 [01:01<00:28, 18.91it/s]"
     ]
    },
    {
     "name": "stdout",
     "output_type": "stream",
     "text": [
      "Skipped with shape != 256 /home/user3/work/data/by_z_regression/minsk_t/6/known_dataset/i_14298-14706-0-308-4.tif\n"
     ]
    },
    {
     "name": "stderr",
     "output_type": "stream",
     "text": [
      " 70%|███████████████████████████▍           | 1206/1718 [01:03<00:27, 18.68it/s]"
     ]
    },
    {
     "name": "stdout",
     "output_type": "stream",
     "text": [
      "Skipped with shape != 256 /home/user3/work/data/by_z_regression/minsk_t/6/known_dataset/i_4838-5280-0-296-2.tif\n"
     ]
    },
    {
     "name": "stderr",
     "output_type": "stream",
     "text": [
      " 71%|███████████████████████████▉           | 1228/1718 [01:04<00:23, 21.19it/s]"
     ]
    },
    {
     "name": "stdout",
     "output_type": "stream",
     "text": [
      "Skipped with shape != 256 /home/user3/work/data/by_z_regression/minsk_t/6/known_dataset/i_6800-7166-0-475-5.tif\n"
     ]
    },
    {
     "name": "stderr",
     "output_type": "stream",
     "text": [
      " 73%|████████████████████████████▍          | 1251/1718 [01:05<00:24, 19.00it/s]"
     ]
    },
    {
     "name": "stdout",
     "output_type": "stream",
     "text": [
      "Skipped with shape != 256 /home/user3/work/data/by_z_regression/minsk_t/6/known_dataset/i_12004-12357-0-179-5.tif\n"
     ]
    },
    {
     "name": "stderr",
     "output_type": "stream",
     "text": [
      " 73%|████████████████████████████▍          | 1254/1718 [01:05<00:24, 18.89it/s]"
     ]
    },
    {
     "name": "stdout",
     "output_type": "stream",
     "text": [
      "Skipped with shape != 256 /home/user3/work/data/by_z_regression/minsk_t/6/known_dataset/i_106-447-0-173-1.tif\n"
     ]
    },
    {
     "name": "stderr",
     "output_type": "stream",
     "text": [
      " 74%|█████████████████████████████          | 1278/1718 [01:06<00:20, 21.47it/s]"
     ]
    },
    {
     "name": "stdout",
     "output_type": "stream",
     "text": [
      "Skipped with shape != 256 /home/user3/work/data/by_z_regression/minsk_t/6/known_dataset/i_11382-11861-0-326-5.tif\n"
     ]
    },
    {
     "name": "stderr",
     "output_type": "stream",
     "text": [
      " 76%|█████████████████████████████▌         | 1302/1718 [01:08<00:21, 18.98it/s]"
     ]
    },
    {
     "name": "stdout",
     "output_type": "stream",
     "text": [
      "Skipped with shape != 256 /home/user3/work/data/by_z_regression/minsk_t/6/known_dataset/i_14102-14539-0-249-4.tif\n"
     ]
    },
    {
     "name": "stderr",
     "output_type": "stream",
     "text": [
      " 77%|█████████████████████████████▊         | 1315/1718 [01:08<00:20, 19.96it/s]"
     ]
    },
    {
     "name": "stdout",
     "output_type": "stream",
     "text": [
      "Skipped with shape != 256 /home/user3/work/data/by_z_regression/minsk_t/6/known_dataset/i_68-398-0-165-2.tif\n"
     ]
    },
    {
     "name": "stderr",
     "output_type": "stream",
     "text": [
      " 77%|█████████████████████████████▉         | 1321/1718 [01:09<00:20, 19.70it/s]"
     ]
    },
    {
     "name": "stdout",
     "output_type": "stream",
     "text": [
      "Skipped with shape != 256 /home/user3/work/data/by_z_regression/minsk_t/6/known_dataset/i_8185-8554-15299-15485-12.tif\n"
     ]
    },
    {
     "name": "stderr",
     "output_type": "stream",
     "text": [
      " 80%|███████████████████████████████        | 1366/1718 [01:11<00:16, 21.36it/s]"
     ]
    },
    {
     "name": "stdout",
     "output_type": "stream",
     "text": [
      "Skipped with shape != 256 /home/user3/work/data/by_z_regression/minsk_t/6/known_dataset/i_13974-14429-0-372-4.tif\n"
     ]
    },
    {
     "name": "stderr",
     "output_type": "stream",
     "text": [
      " 84%|████████████████████████████████▋      | 1441/1718 [01:15<00:16, 16.92it/s]"
     ]
    },
    {
     "name": "stdout",
     "output_type": "stream",
     "text": [
      "Skipped with shape != 256 /home/user3/work/data/by_z_regression/minsk_t/6/known_dataset/i_11203-11550-0-332-5.tif\n"
     ]
    },
    {
     "name": "stderr",
     "output_type": "stream",
     "text": [
      " 91%|███████████████████████████████████▍   | 1562/1718 [01:21<00:08, 18.79it/s]"
     ]
    },
    {
     "name": "stdout",
     "output_type": "stream",
     "text": [
      "Skipped with shape != 256 /home/user3/work/data/by_z_regression/minsk_t/6/known_dataset/i_5168-5541-0-319-12.tif\n"
     ]
    },
    {
     "name": "stderr",
     "output_type": "stream",
     "text": [
      " 93%|████████████████████████████████████   | 1590/1718 [01:23<00:06, 20.95it/s]"
     ]
    },
    {
     "name": "stdout",
     "output_type": "stream",
     "text": [
      "Skipped with shape != 256 /home/user3/work/data/by_z_regression/minsk_t/6/known_dataset/i_5062-5388-0-245-1.tif\n"
     ]
    },
    {
     "name": "stderr",
     "output_type": "stream",
     "text": [
      " 94%|████████████████████████████████████▋  | 1614/1718 [01:24<00:04, 22.75it/s]"
     ]
    },
    {
     "name": "stdout",
     "output_type": "stream",
     "text": [
      "Skipped with shape != 256 /home/user3/work/data/by_z_regression/minsk_t/6/known_dataset/i_5884-6232-0-177-2.tif\n",
      "Skipped with shape != 256 /home/user3/work/data/by_z_regression/minsk_t/6/known_dataset/i_8458-8873-15260-15485-10.tif\n"
     ]
    },
    {
     "name": "stderr",
     "output_type": "stream",
     "text": [
      " 96%|█████████████████████████████████████▍ | 1647/1718 [01:25<00:03, 22.13it/s]"
     ]
    },
    {
     "name": "stdout",
     "output_type": "stream",
     "text": [
      "Skipped with shape != 256 /home/user3/work/data/by_z_regression/minsk_t/6/known_dataset/i_13662-14028-0-268-2.tif\n"
     ]
    },
    {
     "name": "stderr",
     "output_type": "stream",
     "text": [
      " 98%|██████████████████████████████████████▏| 1683/1718 [01:27<00:01, 19.83it/s]"
     ]
    },
    {
     "name": "stdout",
     "output_type": "stream",
     "text": [
      "Skipped with shape != 256 /home/user3/work/data/by_z_regression/minsk_t/6/known_dataset/i_6506-6909-15290-15485-2.tif\n"
     ]
    },
    {
     "name": "stderr",
     "output_type": "stream",
     "text": [
      "100%|███████████████████████████████████████| 1718/1718 [01:29<00:00, 19.23it/s]"
     ]
    },
    {
     "name": "stdout",
     "output_type": "stream",
     "text": [
      "Done 1654\n"
     ]
    },
    {
     "name": "stderr",
     "output_type": "stream",
     "text": [
      "\n"
     ]
    }
   ],
   "source": [
    "image_prefix = 'i_'\n",
    "mask_prefix = 'm_'\n",
    "\n",
    "# Let's fileter data\n",
    "min_level = 1\n",
    "max_level = 256\n",
    "\n",
    "dataset_files = []\n",
    "dataset_name = work_path.split('_')[-1]\n",
    "dataset_items = [fn[len(mask_prefix): ] for fn in os.listdir(work_path) if os.path.isfile(os.path.join(work_path, fn)) and fn.startswith(mask_prefix)]\n",
    "for n in trange(len(dataset_items)):\n",
    "    dataset_item = dataset_items[n]\n",
    "    ip, mp = (os.path.join(work_path, image_prefix + dataset_item), os.path.join(work_path, mask_prefix + dataset_item))\n",
    "    \n",
    "    try:\n",
    "        i, l = get_image_level(ip, mp)\n",
    "        l = float(l)\n",
    "        if l < min_level:\n",
    "            print('Skipped with level < min level', ip)\n",
    "            continue\n",
    "        if l > max_level:\n",
    "            print('Skipped with level > max level', ip)\n",
    "            continue\n",
    "        if i.shape[0] != 256 or i.shape[1] != 256:\n",
    "            print('Skipped with shape != 256', ip)\n",
    "            continue\n",
    "    except Exception as e:\n",
    "        continue\n",
    "\n",
    "    dataset_files.append((ip, mp, dataset_name, int(l)))\n",
    "\n",
    "print('Done', len(dataset_files))"
   ]
  },
  {
   "cell_type": "code",
   "execution_count": 8,
   "id": "3282ddb5-86ff-49fa-aa0b-4c5d6c445b4f",
   "metadata": {},
   "outputs": [],
   "source": [
    "class InferDataset(BaseDataset):\n",
    "    \n",
    "    def __init__(self, dataset_files):\n",
    "        self.dataset_files = dataset_files\n",
    "        self.pad = 48\n",
    "        self.border = 128\n",
    "        self.output_size = (256, 256)\n",
    "    \n",
    "    def __getitem__(self, i):\n",
    "        a = self.dataset_files[i]\n",
    "        image_path, mask_path, ds, lv = a\n",
    "        name = image_path.split('/')[-1].split('_')[1].split('.')[0]\n",
    "\n",
    "        # Image\n",
    "        image, levels = get_image_level(image_path, mask_path,\n",
    "                                       size=self.output_size,\n",
    "                                       aug=None, pad=self.pad, border=self.border)\n",
    "            \n",
    "        return image, levels, name\n",
    "        \n",
    "    def __len__(self):\n",
    "        return len(self.dataset_files)"
   ]
  },
  {
   "cell_type": "code",
   "execution_count": 9,
   "id": "de6d1723-1ba3-49db-8aec-ced006238449",
   "metadata": {},
   "outputs": [
    {
     "name": "stdout",
     "output_type": "stream",
     "text": [
      "14\n",
      "7821-8235-9310-9807-14\n"
     ]
    },
    {
     "data": {
      "image/png": "[encoded data removed]",
      "text/plain": [
       "<Figure size 432x288 with 1 Axes>"
      ]
     },
     "metadata": {
      "needs_background": "light"
     },
     "output_type": "display_data"
    }
   ],
   "source": [
    "# Lets look at data we have\n",
    "infer_dataset = InferDataset(dataset_files)\n",
    "image, level, name = infer_dataset[random.randint(0, len(infer_dataset))] # get some sample\n",
    "print(level)\n",
    "print(name)\n",
    "plt.imshow(image)\n",
    "plt.show()"
   ]
  },
  {
   "cell_type": "code",
   "execution_count": 10,
   "id": "f9bcc58d-6574-4d33-b51e-6a7c701c013d",
   "metadata": {},
   "outputs": [],
   "source": [
    "def preprocess_f(x):\n",
    "    x = x.float()\n",
    "\n",
    "    x.div_(255.0)\n",
    "\n",
    "    x[:,0, :, :].add_(-0.485)\n",
    "    x[:,1, :, :].add_(-0.456)\n",
    "    x[:,2, :, :].add_(-0.406)\n",
    "\n",
    "    x[:,0, :, :].div_(0.229)\n",
    "    x[:,1, :, :].div_(0.224)\n",
    "    x[:,2, :, :].div_(0.225)\n",
    "    return x\n",
    "\n",
    "\n",
    "def calc_euclidean(x1, x2):\n",
    "    return (x1 - x2).pow(2).sum()\n",
    "\n",
    "\n",
    "class AdaptivePoolingHead(nn.Sequential):\n",
    "    def __init__(self, pooling=\"avg\"):\n",
    "        if pooling not in (\"max\", \"avg\"):\n",
    "            raise ValueError(\"Pooling should be one of ('max', 'avg'), got {}.\".format(pooling))\n",
    "        pool = nn.AdaptiveAvgPool2d(1) if pooling == 'avg' else nn.AdaptiveMaxPool2d(1)\n",
    "        super().__init__(pool)\n",
    "\n",
    "class OsmNet(torch.nn.Module):\n",
    "    def __init__(self, source_model, backbone_channels=512, num_classes=16):\n",
    "        super(OsmNet, self).__init__()\n",
    "        self.source_model = source_model\n",
    "        # self.head = ClassificationHead(backbone_channels, 1)\n",
    "        # self.head = RegressionHead(backbone_channels)\n",
    "\n",
    "    def forward(self, x):\n",
    "        x = x.float()\n",
    "        x = preprocess_f(x)\n",
    "        x = self.source_model.forward_features(x)\n",
    "        # x = self.head(x)\n",
    "        return x\n",
    "\n",
    "\n",
    "net = OsmNet(timm.create_model('vgg11'))"
   ]
  },
  {
   "cell_type": "code",
   "execution_count": 11,
   "id": "333d2b5d-e622-4d0d-b0a3-4af50ef569fb",
   "metadata": {},
   "outputs": [],
   "source": [
    "CUDA = \"cuda:0\"\n",
    "CPU = \"cpu\"\n",
    "device = torch.device(CUDA) # if torch.cuda.is_available() else CPU)"
   ]
  },
  {
   "cell_type": "code",
   "execution_count": 12,
   "id": "b7b5c0d5-5872-4c5f-9290-d49ae7f75f87",
   "metadata": {},
   "outputs": [],
   "source": [
    "net.load_state_dict(torch.load('./_best_vgg11.pth', map_location=CUDA))\n",
    "net = net.to(device)"
   ]
  },
  {
   "cell_type": "code",
   "execution_count": 13,
   "id": "2b2c923d-808f-4d78-91da-b8663c1f3021",
   "metadata": {},
   "outputs": [],
   "source": [
    "last_features = None\n",
    "last_level = None\n",
    "last_image = None"
   ]
  },
  {
   "cell_type": "code",
   "execution_count": 14,
   "id": "c42acf90-a1e8-46ec-9ec6-30d0dad9a0a6",
   "metadata": {},
   "outputs": [],
   "source": [
    "# Lets look at data we have\n",
    "show_im = True\n",
    "results = []\n",
    "\n",
    "image, levels, name = infer_dataset[random.randint(0, len(infer_dataset))] # get some sample\n",
    "\n",
    "features = None\n",
    "with torch.no_grad():\n",
    "    image_np = image\n",
    "    image = torch.tensor(image.copy(), dtype=torch.float)\n",
    "    image = torch.unsqueeze(image.to(device), 0)\n",
    "    image = torch.transpose(image, 1, 3)\n",
    "    features = net(image)\n",
    "\n",
    "if last_features is not None:\n",
    "    distance = float(calc_euclidean(features, last_features))\n",
    "else:\n",
    "    distance = None\n",
    "    \n",
    "if last_features is not None:\n",
    "    print(distance)\n",
    "    print(levels)\n",
    "    plt.imshow(image_np)\n",
    "    plt.show()\n",
    "    \n",
    "    print(last_level)\n",
    "    plt.imshow(last_image)\n",
    "    plt.show()\n",
    "    \n",
    "    \n",
    "last_features = features\n",
    "last_level = levels\n",
    "last_image = image_np"
   ]
  },
  {
   "cell_type": "code",
   "execution_count": 15,
   "id": "0c1bba5d-e05e-47a8-9e2e-6995f15fd58d",
   "metadata": {},
   "outputs": [
    {
     "name": "stderr",
     "output_type": "stream",
     "text": [
      "100%|███████████████████████████████████████| 1653/1653 [01:43<00:00, 15.91it/s]\n"
     ]
    }
   ],
   "source": [
    "# Lets look at data we have\n",
    "output_path = work_path\n",
    "features_prefix = 'f_'\n",
    "features_ext = '.npy'\n",
    "\n",
    "for n in trange(len(infer_dataset)-1):\n",
    "    image, levels, name = infer_dataset[n] # get some sample\n",
    "    with torch.no_grad():\n",
    "        image_np = image\n",
    "        image = torch.tensor(image.copy(), dtype=torch.float)\n",
    "        image = torch.unsqueeze(image.to(device), 0)\n",
    "        image = torch.transpose(image, 1, 3)\n",
    "        features = net(image)\n",
    "        features = features.detach().cpu().numpy()\n",
    "        \n",
    "        features_path = os.path.join(output_path, features_prefix + name + features_ext)\n",
    "        with open(features_path, 'wb') as f:\n",
    "            np.save(f, features)"
   ]
  },
  {
   "cell_type": "code",
   "execution_count": null,
   "id": "4991b4b2-83ea-46d7-90fa-4f246dc919fa",
   "metadata": {},
   "outputs": [],
   "source": []
  }
 ],
 "metadata": {
  "kernelspec": {
   "display_name": "Python 3 (ipykernel)",
   "language": "python",
   "name": "python3"
  },
  "language_info": {
   "codemirror_mode": {
    "name": "ipython",
    "version": 3
   },
   "file_extension": ".py",
   "mimetype": "text/x-python",
   "name": "python",
   "nbconvert_exporter": "python",
   "pygments_lexer": "ipython3",
   "version": "3.8.10"
  }
 },
 "nbformat": 4,
 "nbformat_minor": 5
}
