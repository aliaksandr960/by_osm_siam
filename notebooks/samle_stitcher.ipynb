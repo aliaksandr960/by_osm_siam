{
 "cells": [
  {
   "cell_type": "code",
   "execution_count": 1,
   "id": "4d4d2519-5b09-4814-a8cb-286d9d212bfa",
   "metadata": {},
   "outputs": [],
   "source": [
    "import os\n",
    "import random"
   ]
  },
  {
   "cell_type": "code",
   "execution_count": 2,
   "id": "8223ad23-551a-4371-b7b6-b0953162411d",
   "metadata": {},
   "outputs": [],
   "source": [
    "stitcher_path = '/home/user3/work/code/tile-stitch/stitch'\n",
    "zoom_level = 18"
   ]
  },
  {
   "cell_type": "code",
   "execution_count": 3,
   "id": "174ff80f-4d28-42f2-bb5c-20dc52a0e7a9",
   "metadata": {},
   "outputs": [],
   "source": [
    "def download_rect_maxar(lat1, lon1, lat2, lon2, output_file_path, zoom=18, stitcher_path=stitcher_path):\n",
    "    \n",
    "    cmd_str = \"{stitcher_path} -f geotiff -w -o {output_path} -- {lon1} {lat1} {lon2} {lat2} {zoom_level} https://a.tiles.mapbox.com/v4/mapbox.satellite/{{z}}/{{x}}/{{y}}.jpg?access_token=pk.eyJ1Ijoib3BlbnN0cmVldG1hcCIsImEiOiJja2w5YWt5bnYwNjZmMnFwZjhtbHk1MnA1In0.eq2aumBK6JuRoIuBMm6Gew\".format(\n",
    "    **{'stitcher_path': stitcher_path,\n",
    "       'output_path': str(output_file_path),\n",
    "       'zoom_level': str(zoom),\n",
    "       'lon1': str(lon1),\n",
    "       'lat1': str(lat1),\n",
    "       'lon2': str(lon2),\n",
    "       'lat2': str(lat2),\n",
    "      }\n",
    "    )\n",
    "    print(cmd_str)\n",
    "    os.system(cmd_str) \n",
    "\n",
    "    \n",
    "def download_rect_esri(lat1, lon1, lat2, lon2, output_file_path, zoom=18, stitcher_path=stitcher_path):\n",
    "    \n",
    "    cmd_str = \"{stitcher_path} -f geotiff -w -o {output_path} -- {lon1} {lat1} {lon2} {lat2} {zoom_level} https://server.arcgisonline.com/ArcGIS/rest/services/World_Imagery/MapServer/tile/{{z}}/{{y}}/{{x}}\".format(\n",
    "    **{'stitcher_path': stitcher_path,\n",
    "       'output_path': str(output_file_path),\n",
    "       'zoom_level': str(zoom),\n",
    "       'lon1': str(lon1),\n",
    "       'lat1': str(lat1),\n",
    "       'lon2': str(lon2),\n",
    "       'lat2': str(lat2),\n",
    "      }\n",
    "    )\n",
    "    os.system(cmd_str) \n"
   ]
  },
  {
   "cell_type": "code",
   "execution_count": 4,
   "id": "b91a4778-2072-4f62-9fcc-d26a26b2dada",
   "metadata": {},
   "outputs": [],
   "source": [
    "# name = 'minsk'\n",
    "\n",
    "# lat0, lon0 = 27.40244,53.82608\n",
    "# lat1, lon1 = 27.75020,53.98184\n",
    "# dlat, dlon = lat1 - lat0, lon1 - lon0\n",
    "\n",
    "# lat_steps, lon_steps = 10, 10\n",
    "\n",
    "# lat_stepsize, lon_stepsize = dlat / lat_steps, dlon / lon_steps\n",
    "\n",
    "# for lts in range(lat_steps):\n",
    "#     for los in range(lon_steps):\n",
    "#         x0, y0 = lat0 + (lts * lat_stepsize), lon0 + (los * lon_stepsize)\n",
    "#         x1, y1 = lat0 + ((lts+1) * lat_stepsize), lon0 + ((los+1) * lon_stepsize)\n",
    "#         print('x0y0x1y1', round(x0, 4), round(y0, 4), round(x1, 4), round(y1, 4))\n",
    "        \n",
    "#         download_rect_maxar(x0, y0, x1, y1,\n",
    "#                             output_file_path='{}_{}_{}.tif'.format(name, str(lts), str(los)), zoom=18, stitcher_path=stitcher_path)"
   ]
  },
  {
   "cell_type": "code",
   "execution_count": 5,
   "id": "917e11b2-d561-462b-91b9-10890bca353a",
   "metadata": {
    "tags": []
   },
   "outputs": [
    {
     "name": "stdout",
     "output_type": "stream",
     "text": [
      "x0y0x1y1 30.0915 55.1388 30.1341 55.159\n",
      "x0y0x1y1 30.0915 55.159 30.1341 55.1791\n",
      "x0y0x1y1 30.0915 55.1791 30.1341 55.1993\n",
      "x0y0x1y1 30.0915 55.1993 30.1341 55.2194\n",
      "x0y0x1y1 30.0915 55.2194 30.1341 55.2396\n",
      "x0y0x1y1 30.1341 55.1388 30.1767 55.159\n",
      "x0y0x1y1 30.1341 55.159 30.1767 55.1791\n",
      "x0y0x1y1 30.1341 55.1791 30.1767 55.1993\n",
      "x0y0x1y1 30.1341 55.1993 30.1767 55.2194\n",
      "x0y0x1y1 30.1341 55.2194 30.1767 55.2396\n",
      "x0y0x1y1 30.1767 55.1388 30.2193 55.159\n",
      "x0y0x1y1 30.1767 55.159 30.2193 55.1791\n",
      "x0y0x1y1 30.1767 55.1791 30.2193 55.1993\n",
      "x0y0x1y1 30.1767 55.1993 30.2193 55.2194\n",
      "x0y0x1y1 30.1767 55.2194 30.2193 55.2396\n",
      "x0y0x1y1 30.2193 55.1388 30.2619 55.159\n",
      "x0y0x1y1 30.2193 55.159 30.2619 55.1791\n",
      "x0y0x1y1 30.2193 55.1791 30.2619 55.1993\n",
      "x0y0x1y1 30.2193 55.1993 30.2619 55.2194\n",
      "x0y0x1y1 30.2193 55.2194 30.2619 55.2396\n",
      "x0y0x1y1 30.2619 55.1388 30.3045 55.159\n",
      "x0y0x1y1 30.2619 55.159 30.3045 55.1791\n",
      "x0y0x1y1 30.2619 55.1791 30.3045 55.1993\n",
      "x0y0x1y1 30.2619 55.1993 30.3045 55.2194\n",
      "x0y0x1y1 30.2619 55.2194 30.3045 55.2396\n"
     ]
    }
   ],
   "source": [
    "name = 'vitebsk'\n",
    "\n",
    "lat0, lon0 = 30.09147,55.13885\n",
    "lat1, lon1 = 30.30450,55.23956\n",
    "dlat, dlon = lat1 - lat0, lon1 - lon0\n",
    "\n",
    "lat_steps, lon_steps = 5, 5\n",
    "\n",
    "lat_stepsize, lon_stepsize = dlat / lat_steps, dlon / lon_steps\n",
    "\n",
    "for lts in range(lat_steps):\n",
    "    for los in range(lon_steps):\n",
    "        x0, y0 = lat0 + (lts * lat_stepsize), lon0 + (los * lon_stepsize)\n",
    "        x1, y1 = lat0 + ((lts+1) * lat_stepsize), lon0 + ((los+1) * lon_stepsize)\n",
    "        print('x0y0x1y1', round(x0, 4), round(y0, 4), round(x1, 4), round(y1, 4))\n",
    "        tif_path = '{}_{}_{}.tif'.format(name, str(lts), str(los))\n",
    "        if os.path.exists(tif_path):\n",
    "            continue\n",
    "            \n",
    "        download_rect_maxar(x0, y0, x1, y1, output_file_path=tif_path,\n",
    "                            zoom=18, stitcher_path=stitcher_path)"
   ]
  },
  {
   "cell_type": "code",
   "execution_count": 6,
   "id": "48c60a9e-f834-4eaa-87ae-144331ed0f4f",
   "metadata": {
    "tags": []
   },
   "outputs": [
    {
     "name": "stdout",
     "output_type": "stream",
     "text": [
      "x0y0x1y1 30.8874 52.3446 30.9393 52.3765\n",
      "x0y0x1y1 30.8874 52.3765 30.9393 52.4084\n",
      "x0y0x1y1 30.8874 52.4084 30.9393 52.4402\n",
      "x0y0x1y1 30.8874 52.4402 30.9393 52.4721\n",
      "x0y0x1y1 30.8874 52.4721 30.9393 52.504\n",
      "x0y0x1y1 30.9393 52.3446 30.9911 52.3765\n",
      "x0y0x1y1 30.9393 52.3765 30.9911 52.4084\n",
      "x0y0x1y1 30.9393 52.4084 30.9911 52.4402\n",
      "x0y0x1y1 30.9393 52.4402 30.9911 52.4721\n",
      "x0y0x1y1 30.9393 52.4721 30.9911 52.504\n",
      "x0y0x1y1 30.9911 52.3446 31.043 52.3765\n",
      "x0y0x1y1 30.9911 52.3765 31.043 52.4084\n",
      "x0y0x1y1 30.9911 52.4084 31.043 52.4402\n",
      "x0y0x1y1 30.9911 52.4402 31.043 52.4721\n",
      "x0y0x1y1 30.9911 52.4721 31.043 52.504\n",
      "x0y0x1y1 31.043 52.3446 31.0948 52.3765\n",
      "x0y0x1y1 31.043 52.3765 31.0948 52.4084\n",
      "x0y0x1y1 31.043 52.4084 31.0948 52.4402\n",
      "x0y0x1y1 31.043 52.4402 31.0948 52.4721\n",
      "x0y0x1y1 31.043 52.4721 31.0948 52.504\n",
      "x0y0x1y1 31.0948 52.3446 31.1467 52.3765\n",
      "x0y0x1y1 31.0948 52.3765 31.1467 52.4084\n",
      "x0y0x1y1 31.0948 52.4084 31.1467 52.4402\n",
      "x0y0x1y1 31.0948 52.4402 31.1467 52.4721\n",
      "x0y0x1y1 31.0948 52.4721 31.1467 52.504\n"
     ]
    }
   ],
   "source": [
    "name = 'homel'\n",
    "\n",
    "lat0, lon0 = 30.88740,52.34462\n",
    "lat1, lon1 = 31.14669,52.50398\n",
    "dlat, dlon = lat1 - lat0, lon1 - lon0\n",
    "\n",
    "lat_steps, lon_steps = 5, 5\n",
    "\n",
    "lat_stepsize, lon_stepsize = dlat / lat_steps, dlon / lon_steps\n",
    "\n",
    "for lts in range(lat_steps):\n",
    "    for los in range(lon_steps):\n",
    "        x0, y0 = lat0 + (lts * lat_stepsize), lon0 + (los * lon_stepsize)\n",
    "        x1, y1 = lat0 + ((lts+1) * lat_stepsize), lon0 + ((los+1) * lon_stepsize)\n",
    "        print('x0y0x1y1', round(x0, 4), round(y0, 4), round(x1, 4), round(y1, 4))\n",
    "        tif_path = '{}_{}_{}.tif'.format(name, str(lts), str(los))\n",
    "        if os.path.exists(tif_path):\n",
    "            continue\n",
    "            \n",
    "        download_rect_maxar(x0, y0, x1, y1, output_file_path=tif_path,\n",
    "                            zoom=18, stitcher_path=stitcher_path)"
   ]
  },
  {
   "cell_type": "code",
   "execution_count": 8,
   "id": "c18e904d-f411-4351-906a-874f2129b43d",
   "metadata": {
    "tags": []
   },
   "outputs": [
    {
     "name": "stdout",
     "output_type": "stream",
     "text": [
      "x0y0x1y1 30.2222 53.8295 30.2727 53.8583\n",
      "x0y0x1y1 30.2222 53.8583 30.2727 53.887\n",
      "x0y0x1y1 30.2222 53.887 30.2727 53.9157\n",
      "x0y0x1y1 30.2222 53.9157 30.2727 53.9445\n",
      "x0y0x1y1 30.2222 53.9445 30.2727 53.9732\n",
      "x0y0x1y1 30.2727 53.8295 30.3232 53.8583\n",
      "x0y0x1y1 30.2727 53.8583 30.3232 53.887\n",
      "x0y0x1y1 30.2727 53.887 30.3232 53.9157\n",
      "x0y0x1y1 30.2727 53.9157 30.3232 53.9445\n",
      "x0y0x1y1 30.2727 53.9445 30.3232 53.9732\n",
      "x0y0x1y1 30.3232 53.8295 30.3736 53.8583\n",
      "x0y0x1y1 30.3232 53.8583 30.3736 53.887\n",
      "x0y0x1y1 30.3232 53.887 30.3736 53.9157\n",
      "x0y0x1y1 30.3232 53.9157 30.3736 53.9445\n",
      "x0y0x1y1 30.3232 53.9445 30.3736 53.9732\n",
      "x0y0x1y1 30.3736 53.8295 30.4241 53.8583\n",
      "x0y0x1y1 30.3736 53.8583 30.4241 53.887\n",
      "x0y0x1y1 30.3736 53.887 30.4241 53.9157\n",
      "x0y0x1y1 30.3736 53.9157 30.4241 53.9445\n",
      "x0y0x1y1 30.3736 53.9445 30.4241 53.9732\n",
      "x0y0x1y1 30.4241 53.8295 30.4746 53.8583\n",
      "x0y0x1y1 30.4241 53.8583 30.4746 53.887\n",
      "x0y0x1y1 30.4241 53.887 30.4746 53.9157\n",
      "x0y0x1y1 30.4241 53.9157 30.4746 53.9445\n",
      "x0y0x1y1 30.4241 53.9445 30.4746 53.9732\n"
     ]
    }
   ],
   "source": [
    "name = 'mogilev'\n",
    "\n",
    "lat0, lon0 = 30.22225,53.82951\n",
    "lat1, lon1 = 30.47455,53.97323\n",
    "dlat, dlon = lat1 - lat0, lon1 - lon0\n",
    "\n",
    "lat_steps, lon_steps = 5, 5\n",
    "\n",
    "lat_stepsize, lon_stepsize = dlat / lat_steps, dlon / lon_steps\n",
    "\n",
    "for lts in range(lat_steps):\n",
    "    for los in range(lon_steps):\n",
    "        x0, y0 = lat0 + (lts * lat_stepsize), lon0 + (los * lon_stepsize)\n",
    "        x1, y1 = lat0 + ((lts+1) * lat_stepsize), lon0 + ((los+1) * lon_stepsize)\n",
    "        print('x0y0x1y1', round(x0, 4), round(y0, 4), round(x1, 4), round(y1, 4))\n",
    "        \n",
    "        tif_path = '{}_{}_{}.tif'.format(name, str(lts), str(los))\n",
    "        if os.path.exists(tif_path):\n",
    "            continue\n",
    "            \n",
    "        download_rect_maxar(x0, y0, x1, y1, output_file_path=tif_path,\n",
    "                            zoom=18, stitcher_path=stitcher_path)\n",
    "\n",
    "# 29.94577,57.81214, 29.98580,57.83534 # dno"
   ]
  },
  {
   "cell_type": "code",
   "execution_count": null,
   "id": "e6f3a3c4-90a5-4bed-a4cc-d17acfb95384",
   "metadata": {},
   "outputs": [],
   "source": []
  }
 ],
 "metadata": {
  "kernelspec": {
   "display_name": "Python 3 (ipykernel)",
   "language": "python",
   "name": "python3"
  },
  "language_info": {
   "codemirror_mode": {
    "name": "ipython",
    "version": 3
   },
   "file_extension": ".py",
   "mimetype": "text/x-python",
   "name": "python",
   "nbconvert_exporter": "python",
   "pygments_lexer": "ipython3",
   "version": "3.8.10"
  }
 },
 "nbformat": 4,
 "nbformat_minor": 5
}
