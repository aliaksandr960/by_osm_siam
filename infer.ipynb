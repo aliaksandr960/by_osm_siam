{
 "cells": [
  {
   "cell_type": "code",
   "execution_count": 1,
   "id": "5360fbd6-ad57-459f-8f1d-5ba2d27f50a0",
   "metadata": {
    "tags": []
   },
   "outputs": [],
   "source": [
    "import os\n",
    "import sys\n",
    "import copy\n",
    "import random\n",
    "import json\n",
    "from tqdm import tqdm, trange"
   ]
  },
  {
   "cell_type": "code",
   "execution_count": 2,
   "id": "c6ccda9b-5e0f-439c-a197-044bb24abc08",
   "metadata": {},
   "outputs": [],
   "source": [
    "import numpy as np\n",
    "import cv2\n",
    "import albumentations as alb"
   ]
  },
  {
   "cell_type": "code",
   "execution_count": 3,
   "id": "8bbaeae9-6e3d-4f97-b005-e91194952b99",
   "metadata": {},
   "outputs": [],
   "source": [
    "from tqdm import tqdm\n",
    "import matplotlib.pyplot as plt"
   ]
  },
  {
   "cell_type": "code",
   "execution_count": 4,
   "id": "3e3d7855-9c99-438f-96c6-fd27adfcbaea",
   "metadata": {},
   "outputs": [],
   "source": [
    "from sklearn.model_selection import train_test_split\n",
    "from torch.utils.data import DataLoader\n",
    "from torch.utils.data import Dataset as BaseDataset\n",
    "\n",
    "import timm\n",
    "\n",
    "import torch\n",
    "import torch.nn as nn\n",
    "import torch.nn.functional as F\n",
    "import torch.optim as optim"
   ]
  },
  {
   "cell_type": "markdown",
   "id": "22e38785-a9b0-4d89-aa5f-90fa2a024c3f",
   "metadata": {},
   "source": [
    "## Load dataset"
   ]
  },
  {
   "cell_type": "code",
   "execution_count": 5,
   "id": "abd27b81-e48a-4072-8817-25b2cb3c74af",
   "metadata": {},
   "outputs": [],
   "source": [
    "def get_image_level(image_path, mask_path, size=(256, 256), aug=None, pad=48, border=128):\n",
    "    image = cv2.imread(image_path)\n",
    "    mask = cv2.imread(mask_path)[:,:,0]\n",
    "    h, w = mask.shape\n",
    "\n",
    "    levels = np.max(mask)\n",
    "    if aug:\n",
    "        sample = aug(image=image, mask=mask)\n",
    "        image, mask = sample['image'], sample['mask']\n",
    "    \n",
    "    half_size = int(mask.shape[0] / 2)\n",
    "    sh, sw = half_size, None\n",
    "    for i in range(mask.shape[1]):\n",
    "        v = mask[half_size, i]\n",
    "        if v != 0:\n",
    "            sw = i\n",
    "            break\n",
    "    if sw is None:\n",
    "        raise ValueError('Object box not found')\n",
    "    \n",
    "    h1, h2 = int(sh - size[0] / 2), int(sh + size[0] / 2)\n",
    "    w1, w2 = int(sw - size[1] / 2), int(sw + size[1] / 2)\n",
    "    \n",
    "    kernel = cv2.getStructuringElement(cv2.MORPH_ELLIPSE, (border, border))\n",
    "    image_mask = mask.copy()\n",
    "    image_mask = cv2.dilate(image_mask, kernel, iterations=1).clip(0, 1)\n",
    "    image = image * np.stack([image_mask, image_mask, image_mask], axis=-1)\n",
    "\n",
    "    mask = mask[h1:h2, w1:w2]\n",
    "    \n",
    "    result = image.copy()[h1:h2, w1:w2, :]\n",
    "    return result, levels"
   ]
  },
  {
   "cell_type": "code",
   "execution_count": 6,
   "id": "5adcef07-fb53-483b-93da-9fe9217faae3",
   "metadata": {},
   "outputs": [
    {
     "name": "stdout",
     "output_type": "stream",
     "text": [
      "Started 1 of 1\n"
     ]
    },
    {
     "name": "stderr",
     "output_type": "stream",
     "text": [
      "  5%|██                                     | 720/13935 [00:29<08:24, 26.19it/s]"
     ]
    },
    {
     "name": "stdout",
     "output_type": "stream",
     "text": [
      "Skipped with shape != 256 /home/user3/work/data/by_z_regression/hrodna_t/known_dataset/i_25263-25607-0-167-1.tif\n"
     ]
    },
    {
     "name": "stderr",
     "output_type": "stream",
     "text": [
      " 12%|████▍                                 | 1605/13935 [01:05<08:47, 23.35it/s]"
     ]
    },
    {
     "name": "stdout",
     "output_type": "stream",
     "text": [
      "Skipped with shape != 256 /home/user3/work/data/by_z_regression/hrodna_t/known_dataset/i_25260-25601-0-226-1.tif\n"
     ]
    },
    {
     "name": "stderr",
     "output_type": "stream",
     "text": [
      " 15%|█████▌                                | 2033/13935 [01:22<07:58, 24.87it/s]"
     ]
    },
    {
     "name": "stdout",
     "output_type": "stream",
     "text": [
      "Skipped with shape != 256 /home/user3/work/data/by_z_regression/hrodna_t/known_dataset/i_24819-25173-0-246-1.tif\n"
     ]
    },
    {
     "name": "stderr",
     "output_type": "stream",
     "text": [
      " 18%|██████▊                               | 2508/13935 [01:41<07:12, 26.41it/s]"
     ]
    },
    {
     "name": "stdout",
     "output_type": "stream",
     "text": [
      "Skipped with shape != 256 /home/user3/work/data/by_z_regression/hrodna_t/known_dataset/i_25071-25411-0-227-1.tif\n"
     ]
    },
    {
     "name": "stderr",
     "output_type": "stream",
     "text": [
      " 27%|██████████▎                           | 3779/13935 [02:33<06:29, 26.10it/s]"
     ]
    },
    {
     "name": "stdout",
     "output_type": "stream",
     "text": [
      "Skipped with shape != 256 /home/user3/work/data/by_z_regression/hrodna_t/known_dataset/i_25261-25601-0-282-1.tif\n"
     ]
    },
    {
     "name": "stderr",
     "output_type": "stream",
     "text": [
      " 35%|█████████████▏                        | 4843/13935 [03:16<05:44, 26.41it/s]"
     ]
    },
    {
     "name": "stdout",
     "output_type": "stream",
     "text": [
      "Skipped with shape != 256 /home/user3/work/data/by_z_regression/hrodna_t/known_dataset/i_24715-25050-0-217-1.tif\n"
     ]
    },
    {
     "name": "stderr",
     "output_type": "stream",
     "text": [
      " 35%|█████████████▎                        | 4861/13935 [03:17<05:55, 25.52it/s]"
     ]
    },
    {
     "name": "stdout",
     "output_type": "stream",
     "text": [
      "Skipped with shape != 256 /home/user3/work/data/by_z_regression/hrodna_t/known_dataset/i_24938-25273-0-227-1.tif\n"
     ]
    },
    {
     "name": "stderr",
     "output_type": "stream",
     "text": [
      " 53%|███████████████████▉                  | 7329/13935 [04:55<04:42, 23.38it/s]"
     ]
    },
    {
     "name": "stdout",
     "output_type": "stream",
     "text": [
      "Skipped with shape != 256 /home/user3/work/data/by_z_regression/hrodna_t/known_dataset/i_25028-25362-0-227-1.tif\n"
     ]
    },
    {
     "name": "stderr",
     "output_type": "stream",
     "text": [
      " 73%|███████████████████████████          | 10182/13935 [06:48<02:32, 24.65it/s]"
     ]
    },
    {
     "name": "stdout",
     "output_type": "stream",
     "text": [
      "Skipped with shape != 256 /home/user3/work/data/by_z_regression/hrodna_t/known_dataset/i_25121-25458-0-227-1.tif\n"
     ]
    },
    {
     "name": "stderr",
     "output_type": "stream",
     "text": [
      " 83%|██████████████████████████████▌      | 11520/13935 [07:41<01:28, 27.34it/s]"
     ]
    },
    {
     "name": "stdout",
     "output_type": "stream",
     "text": [
      "Skipped with shape != 256 /home/user3/work/data/by_z_regression/hrodna_t/known_dataset/i_24716-25048-0-274-1.tif\n"
     ]
    },
    {
     "name": "stderr",
     "output_type": "stream",
     "text": [
      " 92%|██████████████████████████████████▏  | 12884/13935 [08:35<00:38, 27.53it/s]"
     ]
    },
    {
     "name": "stdout",
     "output_type": "stream",
     "text": [
      "Skipped with shape != 256 /home/user3/work/data/by_z_regression/hrodna_t/known_dataset/i_25169-25506-0-215-1.tif\n"
     ]
    },
    {
     "name": "stderr",
     "output_type": "stream",
     "text": [
      " 95%|███████████████████████████████████▏ | 13241/13935 [08:49<00:25, 26.70it/s]"
     ]
    },
    {
     "name": "stdout",
     "output_type": "stream",
     "text": [
      "Skipped with shape != 256 /home/user3/work/data/by_z_regression/hrodna_t/known_dataset/i_16461-16792-21987-22264-1.tif\n"
     ]
    },
    {
     "name": "stderr",
     "output_type": "stream",
     "text": [
      " 96%|███████████████████████████████████▌ | 13385/13935 [08:55<00:19, 28.48it/s]"
     ]
    },
    {
     "name": "stdout",
     "output_type": "stream",
     "text": [
      "Skipped with shape != 256 /home/user3/work/data/by_z_regression/hrodna_t/known_dataset/i_24939-25273-0-165-1.tif\n"
     ]
    },
    {
     "name": "stderr",
     "output_type": "stream",
     "text": [
      "100%|█████████████████████████████████████| 13935/13935 [09:17<00:00, 24.98it/s]\n"
     ]
    }
   ],
   "source": [
    "image_prefix = 'i_'\n",
    "mask_prefix = 'm_'\n",
    "\n",
    "# Let's fileter data\n",
    "min_level = 1\n",
    "max_level = 256\n",
    "\n",
    "folder_list = ['/home/user3/work/data/by_z_regression/hrodna_t/known_dataset', ]\n",
    "\n",
    "dataset_files = []\n",
    "for k, folder in enumerate(folder_list, start=1):\n",
    "    print('Started', k, 'of', len(folder_list))\n",
    "    dataset_name = folder.split('_')[-1]\n",
    "    dataset_items = [fn[len(mask_prefix): ] for fn in os.listdir(folder) if os.path.isfile(os.path.join(folder, fn)) and fn.startswith(mask_prefix)]\n",
    "    for n in trange(len(dataset_items)):\n",
    "        dataset_item = dataset_items[n]\n",
    "        ip, mp = (os.path.join(folder, image_prefix + dataset_item), os.path.join(folder, mask_prefix + dataset_item))\n",
    "        try:\n",
    "            i, l = get_image_level(ip, mp)\n",
    "            l = float(l)\n",
    "            if l < min_level:\n",
    "                print('Skipped with level < min level', ip)\n",
    "                continue\n",
    "            if l > max_level:\n",
    "                print('Skipped with level > max level', ip)\n",
    "                continue\n",
    "            if i.shape[0] != 256 or i.shape[1] != 256:\n",
    "                print('Skipped with shape != 256', ip)\n",
    "                continue\n",
    "        except Exception as e:\n",
    "            continue\n",
    "        dataset_files.append((ip, mp, dataset_name, int(l)))"
   ]
  },
  {
   "cell_type": "code",
   "execution_count": 7,
   "id": "3282ddb5-86ff-49fa-aa0b-4c5d6c445b4f",
   "metadata": {},
   "outputs": [],
   "source": [
    "class InferDataset(BaseDataset):\n",
    "    \n",
    "    def __init__(self, dataset_files):\n",
    "        self.dataset_files = dataset_files\n",
    "        self.pad = 48\n",
    "        self.border = 128\n",
    "        self.output_size = (256, 256)\n",
    "    \n",
    "    def __getitem__(self, i):\n",
    "        a = self.dataset_files[i]\n",
    "        image_path, mask_path, ds, lv = a\n",
    "        name = image_path.split('/')[-1].split('_')[1].split('.')[0]\n",
    "\n",
    "        # Image\n",
    "        image, levels = get_image_level(image_path, mask_path,\n",
    "                                       size=self.output_size,\n",
    "                                       aug=None, pad=self.pad, border=self.border)\n",
    "            \n",
    "        return image, levels, name\n",
    "        \n",
    "    def __len__(self):\n",
    "        return len(self.dataset_files)"
   ]
  },
  {
   "cell_type": "code",
   "execution_count": 8,
   "id": "de6d1723-1ba3-49db-8aec-ced006238449",
   "metadata": {},
   "outputs": [
    {
     "name": "stdout",
     "output_type": "stream",
     "text": [
      "1\n",
      "8658-8984-7390-7721-1\n"
     ]
    },
    {
     "data": {
      "image/png": "[encoded data removed]",
      "text/plain": [
       "<Figure size 432x288 with 1 Axes>"
      ]
     },
     "metadata": {
      "needs_background": "light"
     },
     "output_type": "display_data"
    }
   ],
   "source": [
    "# Lets look at data we have\n",
    "infer_dataset = InferDataset(dataset_files)\n",
    "image, level, name = infer_dataset[random.randint(0, len(infer_dataset))] # get some sample\n",
    "print(level)\n",
    "print(name)\n",
    "plt.imshow(image)\n",
    "plt.show()"
   ]
  },
  {
   "cell_type": "code",
   "execution_count": 9,
   "id": "f9bcc58d-6574-4d33-b51e-6a7c701c013d",
   "metadata": {},
   "outputs": [],
   "source": [
    "def preprocess_f(x):\n",
    "    x = x.float()\n",
    "\n",
    "    x.div_(255.0)\n",
    "\n",
    "    x[:,0, :, :].add_(-0.485)\n",
    "    x[:,1, :, :].add_(-0.456)\n",
    "    x[:,2, :, :].add_(-0.406)\n",
    "\n",
    "    x[:,0, :, :].div_(0.229)\n",
    "    x[:,1, :, :].div_(0.224)\n",
    "    x[:,2, :, :].div_(0.225)\n",
    "    return x\n",
    "\n",
    "\n",
    "def calc_euclidean(x1, x2):\n",
    "    return (x1 - x2).pow(2).sum()\n",
    "\n",
    "\n",
    "class AdaptivePoolingHead(nn.Sequential):\n",
    "    def __init__(self, pooling=\"avg\"):\n",
    "        if pooling not in (\"max\", \"avg\"):\n",
    "            raise ValueError(\"Pooling should be one of ('max', 'avg'), got {}.\".format(pooling))\n",
    "        pool = nn.AdaptiveAvgPool2d(1) if pooling == 'avg' else nn.AdaptiveMaxPool2d(1)\n",
    "        super().__init__(pool)\n",
    "\n",
    "class OsmNet(torch.nn.Module):\n",
    "    def __init__(self, source_model, backbone_channels=512, num_classes=16):\n",
    "        super(OsmNet, self).__init__()\n",
    "        self.source_model = source_model\n",
    "        # self.head = ClassificationHead(backbone_channels, 1)\n",
    "        # self.head = RegressionHead(backbone_channels)\n",
    "\n",
    "    def forward(self, x):\n",
    "        x = x.float()\n",
    "        x = preprocess_f(x)\n",
    "        x = self.source_model.forward_features(x)\n",
    "        # x = self.head(x)\n",
    "        return x\n",
    "\n",
    "\n",
    "net = OsmNet(timm.create_model('vgg11'))"
   ]
  },
  {
   "cell_type": "code",
   "execution_count": 10,
   "id": "333d2b5d-e622-4d0d-b0a3-4af50ef569fb",
   "metadata": {},
   "outputs": [],
   "source": [
    "CUDA = \"cuda:0\"\n",
    "CPU = \"cpu\"\n",
    "device = torch.device(CUDA) # if torch.cuda.is_available() else CPU)"
   ]
  },
  {
   "cell_type": "code",
   "execution_count": 11,
   "id": "b7b5c0d5-5872-4c5f-9290-d49ae7f75f87",
   "metadata": {},
   "outputs": [],
   "source": [
    "net.load_state_dict(torch.load('./_best_vgg11.pth', map_location=CUDA))\n",
    "net = net.to(device)"
   ]
  },
  {
   "cell_type": "code",
   "execution_count": 12,
   "id": "2b2c923d-808f-4d78-91da-b8663c1f3021",
   "metadata": {},
   "outputs": [],
   "source": [
    "last_features = None\n",
    "last_level = None\n",
    "last_image = None"
   ]
  },
  {
   "cell_type": "code",
   "execution_count": 13,
   "id": "c42acf90-a1e8-46ec-9ec6-30d0dad9a0a6",
   "metadata": {},
   "outputs": [],
   "source": [
    "# Lets look at data we have\n",
    "show_im = True\n",
    "results = []\n",
    "\n",
    "image, levels, name = infer_dataset[random.randint(0, len(infer_dataset))] # get some sample\n",
    "\n",
    "features = None\n",
    "with torch.no_grad():\n",
    "    image_np = image\n",
    "    image = torch.tensor(image.copy(), dtype=torch.float)\n",
    "    image = torch.unsqueeze(image.to(device), 0)\n",
    "    image = torch.transpose(image, 1, 3)\n",
    "    features = net(image)\n",
    "\n",
    "if last_features is not None:\n",
    "    distance = float(calc_euclidean(features, last_features))\n",
    "else:\n",
    "    distance = None\n",
    "    \n",
    "if last_features is not None:\n",
    "    print(distance)\n",
    "    print(levels)\n",
    "    plt.imshow(image_np)\n",
    "    plt.show()\n",
    "    \n",
    "    print(last_level)\n",
    "    plt.imshow(last_image)\n",
    "    plt.show()\n",
    "    \n",
    "    \n",
    "last_features = features\n",
    "last_level = levels\n",
    "last_image = image_np"
   ]
  },
  {
   "cell_type": "code",
   "execution_count": 14,
   "id": "0c1bba5d-e05e-47a8-9e2e-6995f15fd58d",
   "metadata": {},
   "outputs": [
    {
     "name": "stderr",
     "output_type": "stream",
     "text": [
      "100%|█████████████████████████████████████| 13866/13866 [11:49<00:00, 19.55it/s]\n"
     ]
    }
   ],
   "source": [
    "# Lets look at data we have\n",
    "output_path = '/home/user3/work/data/by_z_regression/hrodna_t/known_dataset'\n",
    "features_prefix = 'f_'\n",
    "features_ext = '.npy'\n",
    "\n",
    "for n in trange(len(infer_dataset)-1):\n",
    "    image, levels, name = infer_dataset[n] # get some sample\n",
    "    with torch.no_grad():\n",
    "        image_np = image\n",
    "        image = torch.tensor(image.copy(), dtype=torch.float)\n",
    "        image = torch.unsqueeze(image.to(device), 0)\n",
    "        image = torch.transpose(image, 1, 3)\n",
    "        features = net(image)\n",
    "        features = features.detach().cpu().numpy()\n",
    "        \n",
    "        features_path = os.path.join(output_path, features_prefix + name + features_ext)\n",
    "        with open(features_path, 'wb') as f:\n",
    "            np.save(f, features)"
   ]
  }
 ],
 "metadata": {
  "kernelspec": {
   "display_name": "Python 3 (ipykernel)",
   "language": "python",
   "name": "python3"
  },
  "language_info": {
   "codemirror_mode": {
    "name": "ipython",
    "version": 3
   },
   "file_extension": ".py",
   "mimetype": "text/x-python",
   "name": "python",
   "nbconvert_exporter": "python",
   "pygments_lexer": "ipython3",
   "version": "3.8.10"
  }
 },
 "nbformat": 4,
 "nbformat_minor": 5
}
